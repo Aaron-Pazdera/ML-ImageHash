{
 "cells": [
  {
   "cell_type": "code",
   "execution_count": 1,
   "metadata": {
    "scrolled": true
   },
   "outputs": [],
   "source": [
    "import torch\n",
    "from torch import nn\n",
    "\n",
    "import numpy as np\n",
    "from PIL import Image\n",
    "%matplotlib inline"
   ]
  },
  {
   "cell_type": "markdown",
   "metadata": {},
   "source": [
    "\n",
    "# Model"
   ]
  },
  {
   "cell_type": "code",
   "execution_count": 2,
   "metadata": {
    "scrolled": true,
    "tags": []
   },
   "outputs": [
    {
     "output_type": "stream",
     "name": "stdout",
     "text": [
      "----------------------------------------------------------------\n        Layer (type)               Output Shape         Param #\n================================================================\n            Conv2d-1           [-1, 16, 32, 32]             448\n         MaxPool2d-2           [-1, 16, 32, 32]               0\n              ReLU-3           [-1, 16, 32, 32]               0\n       BatchNorm2d-4           [-1, 16, 32, 32]              32\n       HasherBlock-5           [-1, 16, 32, 32]               0\n            Conv2d-6           [-1, 20, 16, 16]           2,900\n         MaxPool2d-7           [-1, 20, 16, 16]               0\n              ReLU-8           [-1, 20, 16, 16]               0\n       BatchNorm2d-9           [-1, 20, 16, 16]              40\n      HasherBlock-10           [-1, 20, 16, 16]               0\n           Conv2d-11             [-1, 28, 8, 8]           5,068\n        MaxPool2d-12             [-1, 28, 8, 8]               0\n             ReLU-13             [-1, 28, 8, 8]               0\n      BatchNorm2d-14             [-1, 28, 8, 8]              56\n      HasherBlock-15             [-1, 28, 8, 8]               0\n           Conv2d-16             [-1, 32, 4, 4]           8,096\n        MaxPool2d-17             [-1, 32, 4, 4]               0\n             ReLU-18             [-1, 32, 4, 4]               0\n      BatchNorm2d-19             [-1, 32, 4, 4]              64\n      HasherBlock-20             [-1, 32, 4, 4]               0\n           Conv2d-21             [-1, 40, 2, 2]          11,560\n        MaxPool2d-22             [-1, 40, 2, 2]               0\n             ReLU-23             [-1, 40, 2, 2]               0\n      BatchNorm2d-24             [-1, 40, 2, 2]              80\n      HasherBlock-25             [-1, 40, 2, 2]               0\nAdaptiveMaxPool2d-26             [-1, 40, 1, 1]               0\n          Flatten-27                   [-1, 40]               0\n           Linear-28                   [-1, 24]             984\n             ReLU-29                   [-1, 24]               0\n           Linear-30                   [-1, 16]             400\n             Tanh-31                   [-1, 16]               0\n================================================================\nTotal params: 29,728\nTrainable params: 29,728\nNon-trainable params: 0\n----------------------------------------------------------------\nInput size (MB): 0.05\nForward/backward pass size (MB): 0.92\nParams size (MB): 0.11\nEstimated Total Size (MB): 1.08\n----------------------------------------------------------------\n"
     ]
    }
   ],
   "source": [
    "from Models import CustomHasher, SmallHasher, ResnetHasher\n",
    "SmallHasher().visualize()\n",
    "model = SmallHasher()"
   ]
  },
  {
   "cell_type": "markdown",
   "metadata": {},
   "source": [
    "# Load Training Data"
   ]
  },
  {
   "cell_type": "code",
   "execution_count": 3,
   "metadata": {
    "scrolled": true
   },
   "outputs": [],
   "source": [
    "import glob\n",
    "class TripletDataset(torch.utils.data.Dataset):    \n",
    "    def __init__(self, directory, transforms):\n",
    "        self.transforms = transforms\n",
    "        \n",
    "        self.file_list = glob.glob(f'{directory}/*.png')\n",
    "        self.file_list.sort()\n",
    "        self.num_items_available = len(self.file_list)\n",
    "\n",
    "        # from imageaug\n",
    "        self._tt = ToRGBTensor()\n",
    "        \n",
    "        print(f'Found {len(self.file_list)} images.')\n",
    "\n",
    "    def __len__(self):\n",
    "        return self.num_items_available\n",
    "    \n",
    "    def __getitem__(self, index):\n",
    "        anchor   = Image.open(self.file_list[index])\n",
    "        positive = self.transforms(anchor)\n",
    "\n",
    "        return (self._tt(anchor), self._tt(positive))"
   ]
  },
  {
   "cell_type": "markdown",
   "metadata": {},
   "source": [
    "### Image Augmentation/Transforms"
   ]
  },
  {
   "cell_type": "code",
   "execution_count": 4,
   "metadata": {
    "scrolled": true
   },
   "outputs": [],
   "source": [
    "from torchvision.transforms import Compose\n",
    "from imageaug import *\n",
    "\n",
    "transforms = Compose([\n",
    "    ApplyOne(Noise(), Greyscale()),\n",
    "    ApplyOne(RandomRotate(range(0, 360, 30)), RandomFillCrop(1))\n",
    "]) "
   ]
  },
  {
   "cell_type": "code",
   "execution_count": 5,
   "metadata": {
    "scrolled": true,
    "tags": []
   },
   "outputs": [
    {
     "output_type": "stream",
     "name": "stdout",
     "text": [
      "Found 576150 images.\n",
      "Found 192051 images.\n"
     ]
    }
   ],
   "source": [
    "dataset = TripletDataset('TrainDataset', transforms)\n",
    "validationset = TripletDataset('ValidDataset', transforms)"
   ]
  },
  {
   "cell_type": "code",
   "execution_count": 6,
   "metadata": {
    "scrolled": true,
    "tags": []
   },
   "outputs": [
    {
     "output_type": "display_data",
     "data": {
      "text/plain": "<Figure size 720x360 with 2 Axes>",
      "image/svg+xml": "<?xml version=\"1.0\" encoding=\"utf-8\" standalone=\"no\"?>\n<!DOCTYPE svg PUBLIC \"-//W3C//DTD SVG 1.1//EN\"\n  \"http://www.w3.org/Graphics/SVG/1.1/DTD/svg11.dtd\">\n<!-- Created with matplotlib (https://matplotlib.org/) -->\n<svg height=\"286.532173pt\" version=\"1.1\" viewBox=\"0 0 592.125 286.532173\" width=\"592.125pt\" xmlns=\"http://www.w3.org/2000/svg\" xmlns:xlink=\"http://www.w3.org/1999/xlink\">\n <metadata>\n  <rdf:RDF xmlns:cc=\"http://creativecommons.org/ns#\" xmlns:dc=\"http://purl.org/dc/elements/1.1/\" xmlns:rdf=\"http://www.w3.org/1999/02/22-rdf-syntax-ns#\">\n   <cc:Work>\n    <dc:type rdf:resource=\"http://purl.org/dc/dcmitype/StillImage\"/>\n    <dc:date>2020-10-29T22:00:57.341116</dc:date>\n    <dc:format>image/svg+xml</dc:format>\n    <dc:creator>\n     <cc:Agent>\n      <dc:title>Matplotlib v3.3.2, https://matplotlib.org/</dc:title>\n     </cc:Agent>\n    </dc:creator>\n   </cc:Work>\n  </rdf:RDF>\n </metadata>\n <defs>\n  <style type=\"text/css\">*{stroke-linecap:butt;stroke-linejoin:round;}</style>\n </defs>\n <g id=\"figure_1\">\n  <g id=\"patch_1\">\n   <path d=\"M 0 286.532173 \nL 592.125 286.532173 \nL 592.125 0 \nL 0 0 \nz\n\" style=\"fill:none;\"/>\n  </g>\n  <g id=\"axes_1\">\n   <g id=\"patch_2\">\n    <path d=\"M 26.925 262.654048 \nL 280.561364 262.654048 \nL 280.561364 9.017685 \nL 26.925 9.017685 \nz\n\" style=\"fill:#ffffff;\"/>\n   </g>\n   <g clip-path=\"url(#p816efaf389)\">\n    <image height=\"254\" id=\"image82c770be1e\" transform=\"scale(1 -1)translate(0 -254)\" width=\"254\" x=\"26.925\" xlink:href=\"data:image/png;base64,\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\" y=\"-8.654048\"/>\n   </g>\n   <g id=\"matplotlib.axis_1\">\n    <g id=\"xtick_1\">\n     <g id=\"line2d_1\">\n      <defs>\n       <path d=\"M 0 0 \nL 0 3.5 \n\" id=\"m58917b9133\" style=\"stroke:#000000;stroke-width:0.8;\"/>\n      </defs>\n      <g>\n       <use style=\"stroke:#000000;stroke-width:0.8;\" x=\"28.906534\" xlink:href=\"#m58917b9133\" y=\"262.654048\"/>\n      </g>\n     </g>\n     <g id=\"text_1\">\n      <!-- 0 -->\n      <g transform=\"translate(25.725284 277.252486)scale(0.1 -0.1)\">\n       <defs>\n        <path d=\"M 31.78125 66.40625 \nQ 24.171875 66.40625 20.328125 58.90625 \nQ 16.5 51.421875 16.5 36.375 \nQ 16.5 21.390625 20.328125 13.890625 \nQ 24.171875 6.390625 31.78125 6.390625 \nQ 39.453125 6.390625 43.28125 13.890625 \nQ 47.125 21.390625 47.125 36.375 \nQ 47.125 51.421875 43.28125 58.90625 \nQ 39.453125 66.40625 31.78125 66.40625 \nz\nM 31.78125 74.21875 \nQ 44.046875 74.21875 50.515625 64.515625 \nQ 56.984375 54.828125 56.984375 36.375 \nQ 56.984375 17.96875 50.515625 8.265625 \nQ 44.046875 -1.421875 31.78125 -1.421875 \nQ 19.53125 -1.421875 13.0625 8.265625 \nQ 6.59375 17.96875 6.59375 36.375 \nQ 6.59375 54.828125 13.0625 64.515625 \nQ 19.53125 74.21875 31.78125 74.21875 \nz\n\" id=\"DejaVuSans-48\"/>\n       </defs>\n       <use xlink:href=\"#DejaVuSans-48\"/>\n      </g>\n     </g>\n    </g>\n    <g id=\"xtick_2\">\n     <g id=\"line2d_2\">\n      <g>\n       <use style=\"stroke:#000000;stroke-width:0.8;\" x=\"68.537216\" xlink:href=\"#m58917b9133\" y=\"262.654048\"/>\n      </g>\n     </g>\n     <g id=\"text_2\">\n      <!-- 10 -->\n      <g transform=\"translate(62.174716 277.252486)scale(0.1 -0.1)\">\n       <defs>\n        <path d=\"M 12.40625 8.296875 \nL 28.515625 8.296875 \nL 28.515625 63.921875 \nL 10.984375 60.40625 \nL 10.984375 69.390625 \nL 28.421875 72.90625 \nL 38.28125 72.90625 \nL 38.28125 8.296875 \nL 54.390625 8.296875 \nL 54.390625 0 \nL 12.40625 0 \nz\n\" id=\"DejaVuSans-49\"/>\n       </defs>\n       <use xlink:href=\"#DejaVuSans-49\"/>\n       <use x=\"63.623047\" xlink:href=\"#DejaVuSans-48\"/>\n      </g>\n     </g>\n    </g>\n    <g id=\"xtick_3\">\n     <g id=\"line2d_3\">\n      <g>\n       <use style=\"stroke:#000000;stroke-width:0.8;\" x=\"108.167898\" xlink:href=\"#m58917b9133\" y=\"262.654048\"/>\n      </g>\n     </g>\n     <g id=\"text_3\">\n      <!-- 20 -->\n      <g transform=\"translate(101.805398 277.252486)scale(0.1 -0.1)\">\n       <defs>\n        <path d=\"M 19.1875 8.296875 \nL 53.609375 8.296875 \nL 53.609375 0 \nL 7.328125 0 \nL 7.328125 8.296875 \nQ 12.9375 14.109375 22.625 23.890625 \nQ 32.328125 33.6875 34.8125 36.53125 \nQ 39.546875 41.84375 41.421875 45.53125 \nQ 43.3125 49.21875 43.3125 52.78125 \nQ 43.3125 58.59375 39.234375 62.25 \nQ 35.15625 65.921875 28.609375 65.921875 \nQ 23.96875 65.921875 18.8125 64.3125 \nQ 13.671875 62.703125 7.8125 59.421875 \nL 7.8125 69.390625 \nQ 13.765625 71.78125 18.9375 73 \nQ 24.125 74.21875 28.421875 74.21875 \nQ 39.75 74.21875 46.484375 68.546875 \nQ 53.21875 62.890625 53.21875 53.421875 \nQ 53.21875 48.921875 51.53125 44.890625 \nQ 49.859375 40.875 45.40625 35.40625 \nQ 44.1875 33.984375 37.640625 27.21875 \nQ 31.109375 20.453125 19.1875 8.296875 \nz\n\" id=\"DejaVuSans-50\"/>\n       </defs>\n       <use xlink:href=\"#DejaVuSans-50\"/>\n       <use x=\"63.623047\" xlink:href=\"#DejaVuSans-48\"/>\n      </g>\n     </g>\n    </g>\n    <g id=\"xtick_4\">\n     <g id=\"line2d_4\">\n      <g>\n       <use style=\"stroke:#000000;stroke-width:0.8;\" x=\"147.79858\" xlink:href=\"#m58917b9133\" y=\"262.654048\"/>\n      </g>\n     </g>\n     <g id=\"text_4\">\n      <!-- 30 -->\n      <g transform=\"translate(141.43608 277.252486)scale(0.1 -0.1)\">\n       <defs>\n        <path d=\"M 40.578125 39.3125 \nQ 47.65625 37.796875 51.625 33 \nQ 55.609375 28.21875 55.609375 21.1875 \nQ 55.609375 10.40625 48.1875 4.484375 \nQ 40.765625 -1.421875 27.09375 -1.421875 \nQ 22.515625 -1.421875 17.65625 -0.515625 \nQ 12.796875 0.390625 7.625 2.203125 \nL 7.625 11.71875 \nQ 11.71875 9.328125 16.59375 8.109375 \nQ 21.484375 6.890625 26.8125 6.890625 \nQ 36.078125 6.890625 40.9375 10.546875 \nQ 45.796875 14.203125 45.796875 21.1875 \nQ 45.796875 27.640625 41.28125 31.265625 \nQ 36.765625 34.90625 28.71875 34.90625 \nL 20.21875 34.90625 \nL 20.21875 43.015625 \nL 29.109375 43.015625 \nQ 36.375 43.015625 40.234375 45.921875 \nQ 44.09375 48.828125 44.09375 54.296875 \nQ 44.09375 59.90625 40.109375 62.90625 \nQ 36.140625 65.921875 28.71875 65.921875 \nQ 24.65625 65.921875 20.015625 65.03125 \nQ 15.375 64.15625 9.8125 62.3125 \nL 9.8125 71.09375 \nQ 15.4375 72.65625 20.34375 73.4375 \nQ 25.25 74.21875 29.59375 74.21875 \nQ 40.828125 74.21875 47.359375 69.109375 \nQ 53.90625 64.015625 53.90625 55.328125 \nQ 53.90625 49.265625 50.4375 45.09375 \nQ 46.96875 40.921875 40.578125 39.3125 \nz\n\" id=\"DejaVuSans-51\"/>\n       </defs>\n       <use xlink:href=\"#DejaVuSans-51\"/>\n       <use x=\"63.623047\" xlink:href=\"#DejaVuSans-48\"/>\n      </g>\n     </g>\n    </g>\n    <g id=\"xtick_5\">\n     <g id=\"line2d_5\">\n      <g>\n       <use style=\"stroke:#000000;stroke-width:0.8;\" x=\"187.429261\" xlink:href=\"#m58917b9133\" y=\"262.654048\"/>\n      </g>\n     </g>\n     <g id=\"text_5\">\n      <!-- 40 -->\n      <g transform=\"translate(181.066761 277.252486)scale(0.1 -0.1)\">\n       <defs>\n        <path d=\"M 37.796875 64.3125 \nL 12.890625 25.390625 \nL 37.796875 25.390625 \nz\nM 35.203125 72.90625 \nL 47.609375 72.90625 \nL 47.609375 25.390625 \nL 58.015625 25.390625 \nL 58.015625 17.1875 \nL 47.609375 17.1875 \nL 47.609375 0 \nL 37.796875 0 \nL 37.796875 17.1875 \nL 4.890625 17.1875 \nL 4.890625 26.703125 \nz\n\" id=\"DejaVuSans-52\"/>\n       </defs>\n       <use xlink:href=\"#DejaVuSans-52\"/>\n       <use x=\"63.623047\" xlink:href=\"#DejaVuSans-48\"/>\n      </g>\n     </g>\n    </g>\n    <g id=\"xtick_6\">\n     <g id=\"line2d_6\">\n      <g>\n       <use style=\"stroke:#000000;stroke-width:0.8;\" x=\"227.059943\" xlink:href=\"#m58917b9133\" y=\"262.654048\"/>\n      </g>\n     </g>\n     <g id=\"text_6\">\n      <!-- 50 -->\n      <g transform=\"translate(220.697443 277.252486)scale(0.1 -0.1)\">\n       <defs>\n        <path d=\"M 10.796875 72.90625 \nL 49.515625 72.90625 \nL 49.515625 64.59375 \nL 19.828125 64.59375 \nL 19.828125 46.734375 \nQ 21.96875 47.46875 24.109375 47.828125 \nQ 26.265625 48.1875 28.421875 48.1875 \nQ 40.625 48.1875 47.75 41.5 \nQ 54.890625 34.8125 54.890625 23.390625 \nQ 54.890625 11.625 47.5625 5.09375 \nQ 40.234375 -1.421875 26.90625 -1.421875 \nQ 22.3125 -1.421875 17.546875 -0.640625 \nQ 12.796875 0.140625 7.71875 1.703125 \nL 7.71875 11.625 \nQ 12.109375 9.234375 16.796875 8.0625 \nQ 21.484375 6.890625 26.703125 6.890625 \nQ 35.15625 6.890625 40.078125 11.328125 \nQ 45.015625 15.765625 45.015625 23.390625 \nQ 45.015625 31 40.078125 35.4375 \nQ 35.15625 39.890625 26.703125 39.890625 \nQ 22.75 39.890625 18.8125 39.015625 \nQ 14.890625 38.140625 10.796875 36.28125 \nz\n\" id=\"DejaVuSans-53\"/>\n       </defs>\n       <use xlink:href=\"#DejaVuSans-53\"/>\n       <use x=\"63.623047\" xlink:href=\"#DejaVuSans-48\"/>\n      </g>\n     </g>\n    </g>\n    <g id=\"xtick_7\">\n     <g id=\"line2d_7\">\n      <g>\n       <use style=\"stroke:#000000;stroke-width:0.8;\" x=\"266.690625\" xlink:href=\"#m58917b9133\" y=\"262.654048\"/>\n      </g>\n     </g>\n     <g id=\"text_7\">\n      <!-- 60 -->\n      <g transform=\"translate(260.328125 277.252486)scale(0.1 -0.1)\">\n       <defs>\n        <path d=\"M 33.015625 40.375 \nQ 26.375 40.375 22.484375 35.828125 \nQ 18.609375 31.296875 18.609375 23.390625 \nQ 18.609375 15.53125 22.484375 10.953125 \nQ 26.375 6.390625 33.015625 6.390625 \nQ 39.65625 6.390625 43.53125 10.953125 \nQ 47.40625 15.53125 47.40625 23.390625 \nQ 47.40625 31.296875 43.53125 35.828125 \nQ 39.65625 40.375 33.015625 40.375 \nz\nM 52.59375 71.296875 \nL 52.59375 62.3125 \nQ 48.875 64.0625 45.09375 64.984375 \nQ 41.3125 65.921875 37.59375 65.921875 \nQ 27.828125 65.921875 22.671875 59.328125 \nQ 17.53125 52.734375 16.796875 39.40625 \nQ 19.671875 43.65625 24.015625 45.921875 \nQ 28.375 48.1875 33.59375 48.1875 \nQ 44.578125 48.1875 50.953125 41.515625 \nQ 57.328125 34.859375 57.328125 23.390625 \nQ 57.328125 12.15625 50.6875 5.359375 \nQ 44.046875 -1.421875 33.015625 -1.421875 \nQ 20.359375 -1.421875 13.671875 8.265625 \nQ 6.984375 17.96875 6.984375 36.375 \nQ 6.984375 53.65625 15.1875 63.9375 \nQ 23.390625 74.21875 37.203125 74.21875 \nQ 40.921875 74.21875 44.703125 73.484375 \nQ 48.484375 72.75 52.59375 71.296875 \nz\n\" id=\"DejaVuSans-54\"/>\n       </defs>\n       <use xlink:href=\"#DejaVuSans-54\"/>\n       <use x=\"63.623047\" xlink:href=\"#DejaVuSans-48\"/>\n      </g>\n     </g>\n    </g>\n   </g>\n   <g id=\"matplotlib.axis_2\">\n    <g id=\"ytick_1\">\n     <g id=\"line2d_8\">\n      <defs>\n       <path d=\"M 0 0 \nL -3.5 0 \n\" id=\"m4b60ff1196\" style=\"stroke:#000000;stroke-width:0.8;\"/>\n      </defs>\n      <g>\n       <use style=\"stroke:#000000;stroke-width:0.8;\" x=\"26.925\" xlink:href=\"#m4b60ff1196\" y=\"10.999219\"/>\n      </g>\n     </g>\n     <g id=\"text_8\">\n      <!-- 0 -->\n      <g transform=\"translate(13.5625 14.798437)scale(0.1 -0.1)\">\n       <use xlink:href=\"#DejaVuSans-48\"/>\n      </g>\n     </g>\n    </g>\n    <g id=\"ytick_2\">\n     <g id=\"line2d_9\">\n      <g>\n       <use style=\"stroke:#000000;stroke-width:0.8;\" x=\"26.925\" xlink:href=\"#m4b60ff1196\" y=\"50.629901\"/>\n      </g>\n     </g>\n     <g id=\"text_9\">\n      <!-- 10 -->\n      <g transform=\"translate(7.2 54.429119)scale(0.1 -0.1)\">\n       <use xlink:href=\"#DejaVuSans-49\"/>\n       <use x=\"63.623047\" xlink:href=\"#DejaVuSans-48\"/>\n      </g>\n     </g>\n    </g>\n    <g id=\"ytick_3\">\n     <g id=\"line2d_10\">\n      <g>\n       <use style=\"stroke:#000000;stroke-width:0.8;\" x=\"26.925\" xlink:href=\"#m4b60ff1196\" y=\"90.260582\"/>\n      </g>\n     </g>\n     <g id=\"text_10\">\n      <!-- 20 -->\n      <g transform=\"translate(7.2 94.059801)scale(0.1 -0.1)\">\n       <use xlink:href=\"#DejaVuSans-50\"/>\n       <use x=\"63.623047\" xlink:href=\"#DejaVuSans-48\"/>\n      </g>\n     </g>\n    </g>\n    <g id=\"ytick_4\">\n     <g id=\"line2d_11\">\n      <g>\n       <use style=\"stroke:#000000;stroke-width:0.8;\" x=\"26.925\" xlink:href=\"#m4b60ff1196\" y=\"129.891264\"/>\n      </g>\n     </g>\n     <g id=\"text_11\">\n      <!-- 30 -->\n      <g transform=\"translate(7.2 133.690483)scale(0.1 -0.1)\">\n       <use xlink:href=\"#DejaVuSans-51\"/>\n       <use x=\"63.623047\" xlink:href=\"#DejaVuSans-48\"/>\n      </g>\n     </g>\n    </g>\n    <g id=\"ytick_5\">\n     <g id=\"line2d_12\">\n      <g>\n       <use style=\"stroke:#000000;stroke-width:0.8;\" x=\"26.925\" xlink:href=\"#m4b60ff1196\" y=\"169.521946\"/>\n      </g>\n     </g>\n     <g id=\"text_12\">\n      <!-- 40 -->\n      <g transform=\"translate(7.2 173.321165)scale(0.1 -0.1)\">\n       <use xlink:href=\"#DejaVuSans-52\"/>\n       <use x=\"63.623047\" xlink:href=\"#DejaVuSans-48\"/>\n      </g>\n     </g>\n    </g>\n    <g id=\"ytick_6\">\n     <g id=\"line2d_13\">\n      <g>\n       <use style=\"stroke:#000000;stroke-width:0.8;\" x=\"26.925\" xlink:href=\"#m4b60ff1196\" y=\"209.152628\"/>\n      </g>\n     </g>\n     <g id=\"text_13\">\n      <!-- 50 -->\n      <g transform=\"translate(7.2 212.951847)scale(0.1 -0.1)\">\n       <use xlink:href=\"#DejaVuSans-53\"/>\n       <use x=\"63.623047\" xlink:href=\"#DejaVuSans-48\"/>\n      </g>\n     </g>\n    </g>\n    <g id=\"ytick_7\">\n     <g id=\"line2d_14\">\n      <g>\n       <use style=\"stroke:#000000;stroke-width:0.8;\" x=\"26.925\" xlink:href=\"#m4b60ff1196\" y=\"248.78331\"/>\n      </g>\n     </g>\n     <g id=\"text_14\">\n      <!-- 60 -->\n      <g transform=\"translate(7.2 252.582528)scale(0.1 -0.1)\">\n       <use xlink:href=\"#DejaVuSans-54\"/>\n       <use x=\"63.623047\" xlink:href=\"#DejaVuSans-48\"/>\n      </g>\n     </g>\n    </g>\n   </g>\n   <g id=\"patch_3\">\n    <path d=\"M 26.925 262.654048 \nL 26.925 9.017685 \n\" style=\"fill:none;stroke:#000000;stroke-linecap:square;stroke-linejoin:miter;stroke-width:0.8;\"/>\n   </g>\n   <g id=\"patch_4\">\n    <path d=\"M 280.561364 262.654048 \nL 280.561364 9.017685 \n\" style=\"fill:none;stroke:#000000;stroke-linecap:square;stroke-linejoin:miter;stroke-width:0.8;\"/>\n   </g>\n   <g id=\"patch_5\">\n    <path d=\"M 26.925 262.654048 \nL 280.561364 262.654048 \n\" style=\"fill:none;stroke:#000000;stroke-linecap:square;stroke-linejoin:miter;stroke-width:0.8;\"/>\n   </g>\n   <g id=\"patch_6\">\n    <path d=\"M 26.925 9.017685 \nL 280.561364 9.017685 \n\" style=\"fill:none;stroke:#000000;stroke-linecap:square;stroke-linejoin:miter;stroke-width:0.8;\"/>\n   </g>\n  </g>\n  <g id=\"axes_2\">\n   <g id=\"patch_7\">\n    <path d=\"M 331.288636 262.654048 \nL 584.925 262.654048 \nL 584.925 9.017685 \nL 331.288636 9.017685 \nz\n\" style=\"fill:#ffffff;\"/>\n   </g>\n   <g clip-path=\"url(#p180bc0a5a2)\">\n    <image height=\"254\" id=\"image2e426fba86\" transform=\"scale(1 -1)translate(0 -254)\" width=\"254\" x=\"331.288636\" xlink:href=\"data:image/png;base64,\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\" y=\"-8.654048\"/>\n   </g>\n   <g id=\"matplotlib.axis_3\">\n    <g id=\"xtick_8\">\n     <g id=\"line2d_15\">\n      <g>\n       <use style=\"stroke:#000000;stroke-width:0.8;\" x=\"333.27017\" xlink:href=\"#m58917b9133\" y=\"262.654048\"/>\n      </g>\n     </g>\n     <g id=\"text_15\">\n      <!-- 0 -->\n      <g transform=\"translate(330.08892 277.252486)scale(0.1 -0.1)\">\n       <use xlink:href=\"#DejaVuSans-48\"/>\n      </g>\n     </g>\n    </g>\n    <g id=\"xtick_9\">\n     <g id=\"line2d_16\">\n      <g>\n       <use style=\"stroke:#000000;stroke-width:0.8;\" x=\"372.900852\" xlink:href=\"#m58917b9133\" y=\"262.654048\"/>\n      </g>\n     </g>\n     <g id=\"text_16\">\n      <!-- 10 -->\n      <g transform=\"translate(366.538352 277.252486)scale(0.1 -0.1)\">\n       <use xlink:href=\"#DejaVuSans-49\"/>\n       <use x=\"63.623047\" xlink:href=\"#DejaVuSans-48\"/>\n      </g>\n     </g>\n    </g>\n    <g id=\"xtick_10\">\n     <g id=\"line2d_17\">\n      <g>\n       <use style=\"stroke:#000000;stroke-width:0.8;\" x=\"412.531534\" xlink:href=\"#m58917b9133\" y=\"262.654048\"/>\n      </g>\n     </g>\n     <g id=\"text_17\">\n      <!-- 20 -->\n      <g transform=\"translate(406.169034 277.252486)scale(0.1 -0.1)\">\n       <use xlink:href=\"#DejaVuSans-50\"/>\n       <use x=\"63.623047\" xlink:href=\"#DejaVuSans-48\"/>\n      </g>\n     </g>\n    </g>\n    <g id=\"xtick_11\">\n     <g id=\"line2d_18\">\n      <g>\n       <use style=\"stroke:#000000;stroke-width:0.8;\" x=\"452.162216\" xlink:href=\"#m58917b9133\" y=\"262.654048\"/>\n      </g>\n     </g>\n     <g id=\"text_18\">\n      <!-- 30 -->\n      <g transform=\"translate(445.799716 277.252486)scale(0.1 -0.1)\">\n       <use xlink:href=\"#DejaVuSans-51\"/>\n       <use x=\"63.623047\" xlink:href=\"#DejaVuSans-48\"/>\n      </g>\n     </g>\n    </g>\n    <g id=\"xtick_12\">\n     <g id=\"line2d_19\">\n      <g>\n       <use style=\"stroke:#000000;stroke-width:0.8;\" x=\"491.792898\" xlink:href=\"#m58917b9133\" y=\"262.654048\"/>\n      </g>\n     </g>\n     <g id=\"text_19\">\n      <!-- 40 -->\n      <g transform=\"translate(485.430398 277.252486)scale(0.1 -0.1)\">\n       <use xlink:href=\"#DejaVuSans-52\"/>\n       <use x=\"63.623047\" xlink:href=\"#DejaVuSans-48\"/>\n      </g>\n     </g>\n    </g>\n    <g id=\"xtick_13\">\n     <g id=\"line2d_20\">\n      <g>\n       <use style=\"stroke:#000000;stroke-width:0.8;\" x=\"531.42358\" xlink:href=\"#m58917b9133\" y=\"262.654048\"/>\n      </g>\n     </g>\n     <g id=\"text_20\">\n      <!-- 50 -->\n      <g transform=\"translate(525.06108 277.252486)scale(0.1 -0.1)\">\n       <use xlink:href=\"#DejaVuSans-53\"/>\n       <use x=\"63.623047\" xlink:href=\"#DejaVuSans-48\"/>\n      </g>\n     </g>\n    </g>\n    <g id=\"xtick_14\">\n     <g id=\"line2d_21\">\n      <g>\n       <use style=\"stroke:#000000;stroke-width:0.8;\" x=\"571.054261\" xlink:href=\"#m58917b9133\" y=\"262.654048\"/>\n      </g>\n     </g>\n     <g id=\"text_21\">\n      <!-- 60 -->\n      <g transform=\"translate(564.691761 277.252486)scale(0.1 -0.1)\">\n       <use xlink:href=\"#DejaVuSans-54\"/>\n       <use x=\"63.623047\" xlink:href=\"#DejaVuSans-48\"/>\n      </g>\n     </g>\n    </g>\n   </g>\n   <g id=\"matplotlib.axis_4\">\n    <g id=\"ytick_8\">\n     <g id=\"line2d_22\">\n      <g>\n       <use style=\"stroke:#000000;stroke-width:0.8;\" x=\"331.288636\" xlink:href=\"#m4b60ff1196\" y=\"10.999219\"/>\n      </g>\n     </g>\n     <g id=\"text_22\">\n      <!-- 0 -->\n      <g transform=\"translate(317.926136 14.798438)scale(0.1 -0.1)\">\n       <use xlink:href=\"#DejaVuSans-48\"/>\n      </g>\n     </g>\n    </g>\n    <g id=\"ytick_9\">\n     <g id=\"line2d_23\">\n      <g>\n       <use style=\"stroke:#000000;stroke-width:0.8;\" x=\"331.288636\" xlink:href=\"#m4b60ff1196\" y=\"50.629901\"/>\n      </g>\n     </g>\n     <g id=\"text_23\">\n      <!-- 10 -->\n      <g transform=\"translate(311.563636 54.429119)scale(0.1 -0.1)\">\n       <use xlink:href=\"#DejaVuSans-49\"/>\n       <use x=\"63.623047\" xlink:href=\"#DejaVuSans-48\"/>\n      </g>\n     </g>\n    </g>\n    <g id=\"ytick_10\">\n     <g id=\"line2d_24\">\n      <g>\n       <use style=\"stroke:#000000;stroke-width:0.8;\" x=\"331.288636\" xlink:href=\"#m4b60ff1196\" y=\"90.260582\"/>\n      </g>\n     </g>\n     <g id=\"text_24\">\n      <!-- 20 -->\n      <g transform=\"translate(311.563636 94.059801)scale(0.1 -0.1)\">\n       <use xlink:href=\"#DejaVuSans-50\"/>\n       <use x=\"63.623047\" xlink:href=\"#DejaVuSans-48\"/>\n      </g>\n     </g>\n    </g>\n    <g id=\"ytick_11\">\n     <g id=\"line2d_25\">\n      <g>\n       <use style=\"stroke:#000000;stroke-width:0.8;\" x=\"331.288636\" xlink:href=\"#m4b60ff1196\" y=\"129.891264\"/>\n      </g>\n     </g>\n     <g id=\"text_25\">\n      <!-- 30 -->\n      <g transform=\"translate(311.563636 133.690483)scale(0.1 -0.1)\">\n       <use xlink:href=\"#DejaVuSans-51\"/>\n       <use x=\"63.623047\" xlink:href=\"#DejaVuSans-48\"/>\n      </g>\n     </g>\n    </g>\n    <g id=\"ytick_12\">\n     <g id=\"line2d_26\">\n      <g>\n       <use style=\"stroke:#000000;stroke-width:0.8;\" x=\"331.288636\" xlink:href=\"#m4b60ff1196\" y=\"169.521946\"/>\n      </g>\n     </g>\n     <g id=\"text_26\">\n      <!-- 40 -->\n      <g transform=\"translate(311.563636 173.321165)scale(0.1 -0.1)\">\n       <use xlink:href=\"#DejaVuSans-52\"/>\n       <use x=\"63.623047\" xlink:href=\"#DejaVuSans-48\"/>\n      </g>\n     </g>\n    </g>\n    <g id=\"ytick_13\">\n     <g id=\"line2d_27\">\n      <g>\n       <use style=\"stroke:#000000;stroke-width:0.8;\" x=\"331.288636\" xlink:href=\"#m4b60ff1196\" y=\"209.152628\"/>\n      </g>\n     </g>\n     <g id=\"text_27\">\n      <!-- 50 -->\n      <g transform=\"translate(311.563636 212.951847)scale(0.1 -0.1)\">\n       <use xlink:href=\"#DejaVuSans-53\"/>\n       <use x=\"63.623047\" xlink:href=\"#DejaVuSans-48\"/>\n      </g>\n     </g>\n    </g>\n    <g id=\"ytick_14\">\n     <g id=\"line2d_28\">\n      <g>\n       <use style=\"stroke:#000000;stroke-width:0.8;\" x=\"331.288636\" xlink:href=\"#m4b60ff1196\" y=\"248.78331\"/>\n      </g>\n     </g>\n     <g id=\"text_28\">\n      <!-- 60 -->\n      <g transform=\"translate(311.563636 252.582528)scale(0.1 -0.1)\">\n       <use xlink:href=\"#DejaVuSans-54\"/>\n       <use x=\"63.623047\" xlink:href=\"#DejaVuSans-48\"/>\n      </g>\n     </g>\n    </g>\n   </g>\n   <g id=\"patch_8\">\n    <path d=\"M 331.288636 262.654048 \nL 331.288636 9.017685 \n\" style=\"fill:none;stroke:#000000;stroke-linecap:square;stroke-linejoin:miter;stroke-width:0.8;\"/>\n   </g>\n   <g id=\"patch_9\">\n    <path d=\"M 584.925 262.654048 \nL 584.925 9.017685 \n\" style=\"fill:none;stroke:#000000;stroke-linecap:square;stroke-linejoin:miter;stroke-width:0.8;\"/>\n   </g>\n   <g id=\"patch_10\">\n    <path d=\"M 331.288636 262.654048 \nL 584.925 262.654048 \n\" style=\"fill:none;stroke:#000000;stroke-linecap:square;stroke-linejoin:miter;stroke-width:0.8;\"/>\n   </g>\n   <g id=\"patch_11\">\n    <path d=\"M 331.288636 9.017685 \nL 584.925 9.017685 \n\" style=\"fill:none;stroke:#000000;stroke-linecap:square;stroke-linejoin:miter;stroke-width:0.8;\"/>\n   </g>\n  </g>\n </g>\n <defs>\n  <clipPath id=\"p816efaf389\">\n   <rect height=\"253.636364\" width=\"253.636364\" x=\"26.925\" y=\"9.017685\"/>\n  </clipPath>\n  <clipPath id=\"p180bc0a5a2\">\n   <rect height=\"253.636364\" width=\"253.636364\" x=\"331.288636\" y=\"9.017685\"/>\n  </clipPath>\n </defs>\n</svg>\n",
      "image/png": "[encoded data removed]"
     },
     "metadata": {
      "needs_background": "light"
     }
    }
   ],
   "source": [
    "from vistools import show_imgpair\n",
    "\n",
    "show_imgpair(dataset[3])"
   ]
  },
  {
   "cell_type": "code",
   "execution_count": 7,
   "metadata": {
    "scrolled": true
   },
   "outputs": [],
   "source": [
    "n = 64\n",
    "\n",
    "# Dataloader\n",
    "from torch.utils.data import DataLoader\n",
    "train_loader = DataLoader(dataset, num_workers=8, batch_size=n, shuffle=True, drop_last=True)\n",
    "valid_loader = DataLoader(validationset, num_workers=4, batch_size=n, shuffle=True, drop_last=True)\n",
    "\n",
    "# Model\n",
    "model = SmallHasher()\n",
    "\n",
    "# Loss\n",
    "margin = 2\n",
    "p = 2\n",
    "\n",
    "# Optimizer\n",
    "opt = torch.optim.Adam(model.parameters(), lr=.01)"
   ]
  },
  {
   "cell_type": "markdown",
   "metadata": {},
   "source": [
    "## Triplet Loss:\n",
    "$$L(\\displaystyle A,\\displaystyle P,\\displaystyle N,\\displaystyle \\alpha) = max\\Big( d(f(\\displaystyle A), f(\\displaystyle N)) − d(f(\\displaystyle A), f(\\displaystyle P)) + \\displaystyle \\alpha, 0 \\Big)$$\n",
    "\n",
    "Where:\n",
    "* ${\\displaystyle A}$ is an anchor input, \n",
    "* ${\\displaystyle P}$ is a positive input of the same class as ${\\displaystyle A}$, \n",
    "* ${\\displaystyle N}$ is a negative input of a different class from ${\\displaystyle A}$, \n",
    "* ${\\displaystyle \\alpha }$  is a margin between positive and negative pairs, \n",
    "* ${\\displaystyle f}$ is an embedding onto a metric space (the model we're training), and \n",
    "* $d$ is a distance function on that space. (In this case L1 or L2 norm, Manhattan and Euclidean distance respectively).\n",
    "\n",
    "Taken from FaceNet paper\n",
    "https://arxiv.org/abs/1503.03832"
   ]
  },
  {
   "cell_type": "markdown",
   "metadata": {},
   "source": [
    "## N-Tuple Loss\n",
    "Triplet loss as described above accomplishes unsupervised learning of embeddings. This is all well and good, but what if we wanted to up the ante a bit? Triplet loss pushes the embeddings of two images farther apart. But what if we wanted to push even more embeddings apart, probably more intelligently, in a single step? Behold my monstrosity, n-tuple loss."
   ]
  },
  {
   "cell_type": "markdown",
   "metadata": {},
   "source": [
    "Let $f$ be an embedding from the input space onto metric space. In this case, $f$ represents our model.\n",
    "\n",
    "Let $d$ be a distance function on that metric space.\n",
    "\n",
    "Let $\\alpha$ be the desired distance margin between embeddings which do not have the same class.\n",
    "\n",
    "Let $A$ be a tuple of $n$ anchor inputs from separate classes, and $P$ be a tuple of $n$ corresponding positive matches from each class, and let that class be distinct. That is to say, $A_i$ and $P_i$ are of the same class, but the classes of $A_i$ and $A_j$, and of $A_i$ and $P_j$, are different for all $i,j$ from 0 to n-1 where $i \\neq j$.\n",
    "\n",
    "Finally, \n",
    "\n",
    "$$L(\\displaystyle A,\\displaystyle P,\\displaystyle \\alpha) = \\sum_{i=0}^{n-1} \\sum_{j=i+1}^{n-1} \\Big\\lbrack d(f(A_j), f(P_j)) - d(f(A_i),f(A_j)) + \\alpha \\Big\\rbrack_{+}.$$"
   ]
  },
  {
   "source": [
    "## But, why?"
   ],
   "cell_type": "markdown",
   "metadata": {}
  },
  {
   "source": [
    "The main difference is that training the model in this way allows for more information to be digested from each batch. Triplet loss is effective, but it is wasteful in the sense that there's a lot of computation that could be done to spread the embeddings that isn't being done.\n",
    "\n",
    "Suppose that $n$ images are run through the model. Half of the images become anchor images, half become negative images, and positive images are generated through data augmentation from the anchors. For normal triplet loss, this is a batch of $\\frac{n}{2}$ comparisons. Although at the end of the forward pass we have embeddings in memory to compute the loss for an anchor/positive pair and an anchor, and the results would be just as meaningful as the one that triplet loss compares it to, we do not.\n",
    "\n",
    "However, if we run the same $n$ images through the model and do the above, we can do a lot more cross comparison. We let anchor images also act as negatives, generate the positives through data augmentation, and make every comparison possible. This ends up being ${n\\choose 2} = \\frac{n^2 - n}{2}$ comparisons."
   ],
   "cell_type": "markdown",
   "metadata": {}
  },
  {
   "source": [
    "The number of comparisons that can be done grows quadratically by the above rate. This results in many more comparisons than normal triplet loss, hopefully leading to a higher quality of gradient updates and more accurate convergence.\n",
    "\n",
    "Suppose $n = 64$, which seems like a reasonable sample size. With triplet loss, 32 comparisons would be done. This scheme does 2,016 of them, with no additional forward passes required. As the sample size increases, which tends to happen when people are trying to train models faster and faster, the difference gets even more pronounced. A sample size of 128 yeilds 8,128 comparisons compared to triplet loss's 64."
   ],
   "cell_type": "markdown",
   "metadata": {}
  },
  {
   "source": [
    "It should be noted however that because the magnitude of the weight update is determined linearly by the size of the batch, and the effort required to cross compare a large number of combinations of samples may become too expensive to justify for the increase in the quality of the gradient update, particularly at the start of training the model.\n",
    "\n",
    "There are many factors that go into optimization at the end. "
   ],
   "cell_type": "markdown",
   "metadata": {}
  },
  {
   "cell_type": "markdown",
   "metadata": {},
   "source": [
    "## N-Tuple Loss Implementation"
   ]
  },
  {
   "cell_type": "code",
   "execution_count": 8,
   "metadata": {
    "tags": []
   },
   "outputs": [
    {
     "output_type": "stream",
     "name": "stdout",
     "text": [
      "2016\n"
     ]
    }
   ],
   "source": [
    "# Generate all possible combinations of (i, j) for n given by the above scheme\n",
    "from itertools import combinations\n",
    "ij_pairs = list(combinations(range(0, n), r=2))\n",
    "num_combinations = len(ij_pairs)\n",
    "print(num_combinations)"
   ]
  },
  {
   "cell_type": "code",
   "execution_count": 9,
   "metadata": {
    "tags": []
   },
   "outputs": [],
   "source": [
    "from torch.nn.functional import pairwise_distance\n",
    "\n",
    "def ntuplet_loss(anchor_embeddings, positive_embeddings, margin=2, p=2):\n",
    "    # Embeddings are stacked tensors of batchnum many embeddings. These stacks have shape (n, embedding_size).\n",
    "\n",
    "    # Calculate distances between anchors and their respective positive matches.\n",
    "    ap_distances = pairwise_distance(anchor_embeddings, positive_embeddings, keepdim=True, p=p)\n",
    "\n",
    "\n",
    "    losses = []\n",
    "    for ij_pair in ij_pairs:\n",
    "        i, j = ij_pair\n",
    "        \n",
    "        combination_ij_distance = torch.dist(anchor_embeddings[i], anchor_embeddings[j], p=p)\n",
    "\n",
    "        # Minimizing this means maximizing combination_ij_distances and minimizing ap_distances.\n",
    "        dist = ap_distances[j] - combination_ij_distance  + margin\n",
    "        \n",
    "        single_loss = torch.max(dist, torch.zeros_like(dist, requires_grad=True))\n",
    "        losses.append(single_loss)\n",
    "        \n",
    "    return sum(losses) / num_combinations"
   ]
  },
  {
   "cell_type": "code",
   "execution_count": 10,
   "metadata": {},
   "outputs": [],
   "source": [
    "# Triplet Loss\n",
    "triplet_loss = torch.nn.TripletMarginLoss(margin=margin, p=p)"
   ]
  },
  {
   "cell_type": "markdown",
   "metadata": {},
   "source": [
    "# Training Loop"
   ]
  },
  {
   "cell_type": "code",
   "execution_count": 11,
   "metadata": {},
   "outputs": [],
   "source": [
    "from time import time\n",
    "\n",
    "def forward_and_loss(batch, epoch):\n",
    "        # Train the first two batches with triplet loss, and ntuplet loss for the rest.\n",
    "        if epoch <= 2:\n",
    "                # Segment batch\n",
    "                anchor_images,   negative_images = torch.split(batch[0], batch[0].shape[0]//2, dim=0)\n",
    "                positive_images, unused          = torch.split(batch[1], batch[1].shape[0]//2, dim=0)\n",
    "\n",
    "                # Forward\n",
    "                anchor_embeddings   = model.forward(anchor_images)\n",
    "                positive_embeddings = model.forward(positive_images)\n",
    "                negative_embeddings = model.forward(negative_images)\n",
    "\n",
    "                # Backward\n",
    "                loss = triplet_loss(anchor_embeddings, positive_embeddings, negative_embeddings)\n",
    "                \n",
    "        else:\n",
    "                # Forward\n",
    "                anchor_embeddings   = model.forward(batch[0])\n",
    "                positive_embeddings = model.forward(batch[1])\n",
    "        \n",
    "                # Backward\n",
    "                loss = ntuplet_loss(anchor_embeddings, positive_embeddings, margin=margin, p=p)\n",
    "\n",
    "        return loss\n",
    "\n",
    "# Returns loss\n",
    "def train_batch(model, batch, batchnum):\n",
    "        batch_start_time = time()\n",
    "\n",
    "        # Enable Training\n",
    "        model.train()\n",
    "        model.zero_grad()\n",
    "\n",
    "        # Forward and calculate loss\n",
    "        loss = forward_and_loss(batch, epoch)\n",
    "\n",
    "        # Apply grad update\n",
    "        loss.backward()\n",
    "        opt.step()\n",
    "\n",
    "        # Print\n",
    "        batch_end_time = time()\n",
    "        loss_num = loss.item()\n",
    "        if print_batches:\n",
    "            print_batch('train', loss_num, dataset, batch_start_time, batch_end_time)\n",
    "        \n",
    "        return loss_num\n",
    "\n",
    "\n",
    "# Returns loss\n",
    "def valid_batch(model, vbatch, batch_num):\n",
    "        batch_start_time = time()\n",
    "\n",
    "        # Disable Training\n",
    "        with torch.no_grad():\n",
    "                model.eval()\n",
    "\n",
    "                loss = forward_and_loss(batch, epoch)\n",
    "\n",
    "                # Print\n",
    "                batch_end_time = time()\n",
    "                loss_num = loss.item()\n",
    "                if print_batches:\n",
    "                    print_batch('valid', loss_num, validationset, batch_start_time, batch_end_time)\n",
    "        \n",
    "        return loss_num"
   ]
  },
  {
   "cell_type": "code",
   "execution_count": 12,
   "metadata": {},
   "outputs": [],
   "source": [
    "print_batches = True\n",
    "def print_batch(tv, loss_num, dataset, batch_start_time, batch_end_time):\n",
    "        batch_time = round(batch_end_time-batch_start_time, 2)\n",
    "        num_batches = (dataset.num_items_available // n) - 1\n",
    "        est_epoch_time_seconds = batch_time*num_batches\n",
    "        est_epoch_time_minutes = round(est_epoch_time_seconds / 60, 2)\n",
    "        print(f'\\rCompleted {tv} batch: {str(batch_num).rjust(4, \" \")} of {num_batches} | \\\n",
    "Loss: {\"{:6.4f}\".format(loss_num)} | \\\n",
    "Time: {str(batch_time).rjust(6, \" \")} (est. {\"{:4.1f}\".format(est_epoch_time_minutes)} min for epoch)', end='')"
   ]
  },
  {
   "cell_type": "code",
   "execution_count": 13,
   "metadata": {
    "scrolled": true,
    "tags": []
   },
   "outputs": [
    {
     "output_type": "stream",
     "name": "stdout",
     "text": [
      "Completed train batch: 9001 of 9001 | Loss: 0.6288 | Time:   0.07 (est. 10.5 min for epoch)\n",
      "Completed valid batch: 2999 of 2999 | Loss: 0.5351 | Time:   0.03 (est.  1.5 min for epoch)\n",
      "╔══════════════════════════════════════════════════════════════════╗\n",
      "║ End of Epoch:   1 | Validation Loss:  0.5351 | Time:  18.14 min. ║\n",
      "╚══════════════════════════════════════════════════════════════════╝\n",
      "\n",
      "Completed train batch: 9001 of 9001 | Loss: 0.2484 | Time:   0.08 (est. 12.0 min for epoch)\n",
      "Completed valid batch: 2999 of 2999 | Loss: 0.3750 | Time:   0.03 (est.  1.5 min for epoch)\n",
      "╔══════════════════════════════════════════════════════════════════╗\n",
      "║ End of Epoch:   2 | Validation Loss:  0.3750 | Time:  15.68 min. ║\n",
      "╚══════════════════════════════════════════════════════════════════╝\n",
      "\n",
      "Completed train batch: 9001 of 9001 | Loss: 0.1891 | Time:   0.45 (est. 67.5 min for epoch)\n",
      "Completed valid batch: 2999 of 2999 | Loss: 0.2120 | Time:   0.12 (est.  6.0 min for epoch)\n",
      "╔══════════════════════════════════════════════════════════════════╗\n",
      "║ End of Epoch:   3 | Validation Loss:  0.2120 | Time:  86.78 min. ║\n",
      "╚══════════════════════════════════════════════════════════════════╝\n",
      "\n",
      "Completed train batch: 9001 of 9001 | Loss: 0.4516 | Time:   0.52 (est. 78.0 min for epoch)\n",
      "Completed valid batch: 2999 of 2999 | Loss: 0.3440 | Time:   0.18 (est.  9.0 min for epoch)\n",
      "╔══════════════════════════════════════════════════════════════════╗\n",
      "║ End of Epoch:   4 | Validation Loss:  0.3440 | Time:  85.92 min. ║\n",
      "╚══════════════════════════════════════════════════════════════════╝\n",
      "\n",
      "Completed train batch: 9001 of 9001 | Loss: 0.1982 | Time:   0.44 (est. 66.0 min for epoch)\n",
      "Completed valid batch: 2999 of 2999 | Loss: 0.2276 | Time:   0.11 (est.  5.5 min for epoch)\n",
      "╔══════════════════════════════════════════════════════════════════╗\n",
      "║ End of Epoch:   5 | Validation Loss:  0.2276 | Time:  85.29 min. ║\n",
      "╚══════════════════════════════════════════════════════════════════╝\n",
      "\n",
      "Completed train batch: 9001 of 9001 | Loss: 0.3746 | Time:   0.44 (est. 66.0 min for epoch)\n",
      "Completed valid batch: 2999 of 2999 | Loss: 0.4153 | Time:   0.13 (est.  6.5 min for epoch)\n",
      "╔══════════════════════════════════════════════════════════════════╗\n",
      "║ End of Epoch:   6 | Validation Loss:  0.4153 | Time:  85.85 min. ║\n",
      "╚══════════════════════════════════════════════════════════════════╝\n",
      "\n"
     ]
    }
   ],
   "source": [
    "import copy\n",
    "best_weights = None\n",
    "best_loss = np.inf\n",
    "\n",
    "\n",
    "# Train for at most 1000 epochs. There's no way it will take that long.\n",
    "for epoch in range(1, 50):\n",
    "    \n",
    "    # Training Batches\n",
    "    batch_num = 0\n",
    "    epoch_start_time = time()\n",
    "    for batch_num, batch in enumerate(train_loader):\n",
    "        train_batch(model, batch, batch_num)\n",
    "    \n",
    "    # So carriage return prints train/valid on different lines\n",
    "    if print_batches:\n",
    "        print()\n",
    "\n",
    "    # Validation batches\n",
    "    batch_num = 0\n",
    "    batch_valid_losses = []\n",
    "    for batch_num, vbatch in enumerate(valid_loader):\n",
    "        loss_num = valid_batch(model, vbatch, batch_num)\n",
    "        batch_valid_losses.append(loss_num)\n",
    "    valid_loss = sum(batch_valid_losses) / len(batch_valid_losses)\n",
    "    \n",
    "    # Print epoch results\n",
    "    epoch_end_time = time()\n",
    "    epoch_time_minutes = round((epoch_end_time - epoch_start_time) / 60, 2)\n",
    "    print(f\"\"\"\\n\\\n",
    "╔══════════════════════════════════════════════════════════════════╗\\n║ \\\n",
    "End of Epoch: {str(epoch).rjust(3, \" \")} | \\\n",
    "Validation Loss: {\"{:7.4f}\".format(valid_loss)} | \\\n",
    "Time: {str(epoch_time_minutes).rjust(6, \" \")} min. ║\\n\\\n",
    "╚══════════════════════════════════════════════════════════════════╝\\n\"\"\")\n",
    "\n",
    "    # Save best weigths, early stopping\n",
    "    if best_loss < valid_loss and epoch >= 1:\n",
    "        # Cannot on first pass b/c best_loss is infinity. Then it \n",
    "        # proceeds to the else. This handles early stopping.\n",
    "        break\n",
    "    else:\n",
    "        # The model has not overfit. Save the weights and keep going until it does.\n",
    "        best_weights = copy.deepcopy(model.state_dict()), \n",
    "        best_loss = valid_loss\n",
    "model.load_state_dict(best_weights)"
   ]
  },
  {
   "cell_type": "markdown",
   "metadata": {},
   "source": [
    "# Export Model"
   ]
  },
  {
   "cell_type": "code",
   "execution_count": 14,
   "metadata": {
    "tags": []
   },
   "outputs": [
    {
     "output_type": "stream",
     "name": "stdout",
     "text": [
      "Saved model as: Models/model4.zip\n"
     ]
    }
   ],
   "source": [
    "export_model = True\n",
    "model_path = 'Models/model%s.zip'\n",
    "\n",
    "\n",
    "def next_path(path_pattern):\n",
    "    i = 1\n",
    "    while os.path.exists(path_pattern % i):\n",
    "        i += 1\n",
    "    return path_pattern % i\n",
    "\n",
    "if export_model:\n",
    "    fname = next_path(model_path)\n",
    "    torch.save(model, fname)\n",
    "    print(f'Saved model as: {fname}')"
   ]
  },
  {
   "source": [
    "# Load Model"
   ],
   "cell_type": "markdown",
   "metadata": {}
  },
  {
   "cell_type": "code",
   "execution_count": 13,
   "metadata": {},
   "outputs": [],
   "source": [
    "model_path = \"Models/model2.zip\"\n",
    "model = torch.load(model_path)"
   ]
  },
  {
   "source": [
    "# Test Model"
   ],
   "cell_type": "markdown",
   "metadata": {}
  },
  {
   "cell_type": "code",
   "execution_count": 14,
   "metadata": {},
   "outputs": [],
   "source": [
    "tt = ToRGBTensor()\n",
    "def load_img(fname):\n",
    "    return tt(Image.open(fname)).unsqueeze(0)\n",
    "def compare_vectors(v1, v2):\n",
    "    vec1, vec2 = v1[0], v2[0] # b/c second term is the file name\n",
    "    return np.linalg.norm(vec1-vec2)"
   ]
  },
  {
   "cell_type": "code",
   "execution_count": 15,
   "metadata": {},
   "outputs": [
    {
     "output_type": "stream",
     "name": "stderr",
     "text": [
      "100%|██████████| 192051/192051 [09:26<00:00, 338.72it/s]\n"
     ]
    }
   ],
   "source": [
    "from tqdm import tqdm\n",
    "import matplotlib.pyplot as plt\n",
    "\n",
    "embeddings = []\n",
    "\n",
    "# Turn off gradients\n",
    "with torch.no_grad():\n",
    "    model.eval()\n",
    "\n",
    "    # Load all the validation data and hash it\n",
    "    for fname in tqdm(validationset.file_list):\n",
    "        embedding = model.forward(load_img(fname)).numpy()\n",
    "        embeddings.append((embedding, fname))"
   ]
  },
  {
   "cell_type": "code",
   "execution_count": 16,
   "metadata": {},
   "outputs": [
    {
     "output_type": "execute_result",
     "data": {
      "text/plain": [
       "4.593522"
      ]
     },
     "metadata": {},
     "execution_count": 16
    }
   ],
   "source": [
    "compare_vectors(embeddings[0], embeddings[1])"
   ]
  },
  {
   "cell_type": "code",
   "execution_count": 17,
   "metadata": {
    "tags": []
   },
   "outputs": [],
   "source": [
    "def show_matches(matches, axes=True):\n",
    "    fname_list = [tup[1][1] for tup in matches]\n",
    "    imgs = [Image.open(fname) for fname in fname_list]\n",
    "\n",
    "    axs = plt.subplots(1, len(imgs), figsize=(10, 5))[1]\n",
    "    axs = np.ravel(axs)\n",
    "\n",
    "    for i in range(len(imgs)):\n",
    "        axs[i].imshow(imgs[i])\n",
    "        if not axes:\n",
    "            axs[i].set_axis_off()\n",
    "    plt.show()"
   ]
  },
  {
   "cell_type": "code",
   "execution_count": 18,
   "metadata": {},
   "outputs": [
    {
     "output_type": "stream",
     "name": "stdout",
     "text": [
      "192051\n17.551129950366633\n"
     ]
    }
   ],
   "source": [
    "print(len(embeddings))\n",
    "print(np.log2(len(embeddings)))"
   ]
  },
  {
   "cell_type": "code",
   "execution_count": 23,
   "metadata": {
    "tags": []
   },
   "outputs": [
    {
     "output_type": "error",
     "ename": "RecursionError",
     "evalue": "maximum recursion depth exceeded while calling a Python object",
     "traceback": [
      "\u001b[0;31m---------------------------------------------------------------------------\u001b[0m",
      "\u001b[0;31mRecursionError\u001b[0m                            Traceback (most recent call last)",
      "\u001b[0;32m<ipython-input-23-f4d75d6f692f>\u001b[0m in \u001b[0;36m<module>\u001b[0;34m()\u001b[0m\n\u001b[1;32m      5\u001b[0m \u001b[0;34m\u001b[0m\u001b[0m\n\u001b[1;32m      6\u001b[0m \u001b[0;32mfrom\u001b[0m \u001b[0mvptree\u001b[0m \u001b[0;32mimport\u001b[0m \u001b[0mVPTree\u001b[0m\u001b[0;34m\u001b[0m\u001b[0;34m\u001b[0m\u001b[0m\n\u001b[0;32m----> 7\u001b[0;31m \u001b[0mvpt\u001b[0m \u001b[0;34m=\u001b[0m \u001b[0mVPTree\u001b[0m\u001b[0;34m(\u001b[0m\u001b[0membeddings\u001b[0m\u001b[0;34m,\u001b[0m \u001b[0mcompare_vectors\u001b[0m\u001b[0;34m)\u001b[0m\u001b[0;34m\u001b[0m\u001b[0;34m\u001b[0m\u001b[0m\n\u001b[0m",
      "\u001b[0;32m/home/apaz/.local/lib/python3.7/site-packages/vptree.py\u001b[0m in \u001b[0;36m__init__\u001b[0;34m(self, points, dist_fn)\u001b[0m\n\u001b[1;32m     69\u001b[0m \u001b[0;34m\u001b[0m\u001b[0m\n\u001b[1;32m     70\u001b[0m         \u001b[0;32mif\u001b[0m \u001b[0mlen\u001b[0m\u001b[0;34m(\u001b[0m\u001b[0mright_points\u001b[0m\u001b[0;34m)\u001b[0m \u001b[0;34m>\u001b[0m \u001b[0;36m0\u001b[0m\u001b[0;34m:\u001b[0m\u001b[0;34m\u001b[0m\u001b[0;34m\u001b[0m\u001b[0m\n\u001b[0;32m---> 71\u001b[0;31m             \u001b[0mself\u001b[0m\u001b[0;34m.\u001b[0m\u001b[0mright\u001b[0m \u001b[0;34m=\u001b[0m \u001b[0mVPTree\u001b[0m\u001b[0;34m(\u001b[0m\u001b[0mpoints\u001b[0m\u001b[0;34m=\u001b[0m\u001b[0mright_points\u001b[0m\u001b[0;34m,\u001b[0m \u001b[0mdist_fn\u001b[0m\u001b[0;34m=\u001b[0m\u001b[0mself\u001b[0m\u001b[0;34m.\u001b[0m\u001b[0mdist_fn\u001b[0m\u001b[0;34m)\u001b[0m\u001b[0;34m\u001b[0m\u001b[0;34m\u001b[0m\u001b[0m\n\u001b[0m\u001b[1;32m     72\u001b[0m \u001b[0;34m\u001b[0m\u001b[0m\n\u001b[1;32m     73\u001b[0m     \u001b[0;32mdef\u001b[0m \u001b[0m_is_leaf\u001b[0m\u001b[0;34m(\u001b[0m\u001b[0mself\u001b[0m\u001b[0;34m)\u001b[0m\u001b[0;34m:\u001b[0m\u001b[0;34m\u001b[0m\u001b[0;34m\u001b[0m\u001b[0m\n",
      "\u001b[0;32m/home/apaz/.local/lib/python3.7/site-packages/vptree.py\u001b[0m in \u001b[0;36m__init__\u001b[0;34m(self, points, dist_fn)\u001b[0m\n\u001b[1;32m     69\u001b[0m \u001b[0;34m\u001b[0m\u001b[0m\n\u001b[1;32m     70\u001b[0m         \u001b[0;32mif\u001b[0m \u001b[0mlen\u001b[0m\u001b[0;34m(\u001b[0m\u001b[0mright_points\u001b[0m\u001b[0;34m)\u001b[0m \u001b[0;34m>\u001b[0m \u001b[0;36m0\u001b[0m\u001b[0;34m:\u001b[0m\u001b[0;34m\u001b[0m\u001b[0;34m\u001b[0m\u001b[0m\n\u001b[0;32m---> 71\u001b[0;31m             \u001b[0mself\u001b[0m\u001b[0;34m.\u001b[0m\u001b[0mright\u001b[0m \u001b[0;34m=\u001b[0m \u001b[0mVPTree\u001b[0m\u001b[0;34m(\u001b[0m\u001b[0mpoints\u001b[0m\u001b[0;34m=\u001b[0m\u001b[0mright_points\u001b[0m\u001b[0;34m,\u001b[0m \u001b[0mdist_fn\u001b[0m\u001b[0;34m=\u001b[0m\u001b[0mself\u001b[0m\u001b[0;34m.\u001b[0m\u001b[0mdist_fn\u001b[0m\u001b[0;34m)\u001b[0m\u001b[0;34m\u001b[0m\u001b[0;34m\u001b[0m\u001b[0m\n\u001b[0m\u001b[1;32m     72\u001b[0m \u001b[0;34m\u001b[0m\u001b[0m\n\u001b[1;32m     73\u001b[0m     \u001b[0;32mdef\u001b[0m \u001b[0m_is_leaf\u001b[0m\u001b[0;34m(\u001b[0m\u001b[0mself\u001b[0m\u001b[0;34m)\u001b[0m\u001b[0;34m:\u001b[0m\u001b[0;34m\u001b[0m\u001b[0;34m\u001b[0m\u001b[0m\n",
      "\u001b[0;32m/home/apaz/.local/lib/python3.7/site-packages/vptree.py\u001b[0m in \u001b[0;36m__init__\u001b[0;34m(self, points, dist_fn)\u001b[0m\n\u001b[1;32m     66\u001b[0m \u001b[0;34m\u001b[0m\u001b[0m\n\u001b[1;32m     67\u001b[0m         \u001b[0;32mif\u001b[0m \u001b[0mlen\u001b[0m\u001b[0;34m(\u001b[0m\u001b[0mleft_points\u001b[0m\u001b[0;34m)\u001b[0m \u001b[0;34m>\u001b[0m \u001b[0;36m0\u001b[0m\u001b[0;34m:\u001b[0m\u001b[0;34m\u001b[0m\u001b[0;34m\u001b[0m\u001b[0m\n\u001b[0;32m---> 68\u001b[0;31m             \u001b[0mself\u001b[0m\u001b[0;34m.\u001b[0m\u001b[0mleft\u001b[0m \u001b[0;34m=\u001b[0m \u001b[0mVPTree\u001b[0m\u001b[0;34m(\u001b[0m\u001b[0mpoints\u001b[0m\u001b[0;34m=\u001b[0m\u001b[0mleft_points\u001b[0m\u001b[0;34m,\u001b[0m \u001b[0mdist_fn\u001b[0m\u001b[0;34m=\u001b[0m\u001b[0mself\u001b[0m\u001b[0;34m.\u001b[0m\u001b[0mdist_fn\u001b[0m\u001b[0;34m)\u001b[0m\u001b[0;34m\u001b[0m\u001b[0;34m\u001b[0m\u001b[0m\n\u001b[0m\u001b[1;32m     69\u001b[0m \u001b[0;34m\u001b[0m\u001b[0m\n\u001b[1;32m     70\u001b[0m         \u001b[0;32mif\u001b[0m \u001b[0mlen\u001b[0m\u001b[0;34m(\u001b[0m\u001b[0mright_points\u001b[0m\u001b[0;34m)\u001b[0m \u001b[0;34m>\u001b[0m \u001b[0;36m0\u001b[0m\u001b[0;34m:\u001b[0m\u001b[0;34m\u001b[0m\u001b[0;34m\u001b[0m\u001b[0m\n",
      "\u001b[0;32m/home/apaz/.local/lib/python3.7/site-packages/vptree.py\u001b[0m in \u001b[0;36m__init__\u001b[0;34m(self, points, dist_fn)\u001b[0m\n\u001b[1;32m     69\u001b[0m \u001b[0;34m\u001b[0m\u001b[0m\n\u001b[1;32m     70\u001b[0m         \u001b[0;32mif\u001b[0m \u001b[0mlen\u001b[0m\u001b[0;34m(\u001b[0m\u001b[0mright_points\u001b[0m\u001b[0;34m)\u001b[0m \u001b[0;34m>\u001b[0m \u001b[0;36m0\u001b[0m\u001b[0;34m:\u001b[0m\u001b[0;34m\u001b[0m\u001b[0;34m\u001b[0m\u001b[0m\n\u001b[0;32m---> 71\u001b[0;31m             \u001b[0mself\u001b[0m\u001b[0;34m.\u001b[0m\u001b[0mright\u001b[0m \u001b[0;34m=\u001b[0m \u001b[0mVPTree\u001b[0m\u001b[0;34m(\u001b[0m\u001b[0mpoints\u001b[0m\u001b[0;34m=\u001b[0m\u001b[0mright_points\u001b[0m\u001b[0;34m,\u001b[0m \u001b[0mdist_fn\u001b[0m\u001b[0;34m=\u001b[0m\u001b[0mself\u001b[0m\u001b[0;34m.\u001b[0m\u001b[0mdist_fn\u001b[0m\u001b[0;34m)\u001b[0m\u001b[0;34m\u001b[0m\u001b[0;34m\u001b[0m\u001b[0m\n\u001b[0m\u001b[1;32m     72\u001b[0m \u001b[0;34m\u001b[0m\u001b[0m\n\u001b[1;32m     73\u001b[0m     \u001b[0;32mdef\u001b[0m \u001b[0m_is_leaf\u001b[0m\u001b[0;34m(\u001b[0m\u001b[0mself\u001b[0m\u001b[0;34m)\u001b[0m\u001b[0;34m:\u001b[0m\u001b[0;34m\u001b[0m\u001b[0;34m\u001b[0m\u001b[0m\n",
      "\u001b[0;32m/home/apaz/.local/lib/python3.7/site-packages/vptree.py\u001b[0m in \u001b[0;36m__init__\u001b[0;34m(self, points, dist_fn)\u001b[0m\n\u001b[1;32m     66\u001b[0m \u001b[0;34m\u001b[0m\u001b[0m\n\u001b[1;32m     67\u001b[0m         \u001b[0;32mif\u001b[0m \u001b[0mlen\u001b[0m\u001b[0;34m(\u001b[0m\u001b[0mleft_points\u001b[0m\u001b[0;34m)\u001b[0m \u001b[0;34m>\u001b[0m \u001b[0;36m0\u001b[0m\u001b[0;34m:\u001b[0m\u001b[0;34m\u001b[0m\u001b[0;34m\u001b[0m\u001b[0m\n\u001b[0;32m---> 68\u001b[0;31m             \u001b[0mself\u001b[0m\u001b[0;34m.\u001b[0m\u001b[0mleft\u001b[0m \u001b[0;34m=\u001b[0m \u001b[0mVPTree\u001b[0m\u001b[0;34m(\u001b[0m\u001b[0mpoints\u001b[0m\u001b[0;34m=\u001b[0m\u001b[0mleft_points\u001b[0m\u001b[0;34m,\u001b[0m \u001b[0mdist_fn\u001b[0m\u001b[0;34m=\u001b[0m\u001b[0mself\u001b[0m\u001b[0;34m.\u001b[0m\u001b[0mdist_fn\u001b[0m\u001b[0;34m)\u001b[0m\u001b[0;34m\u001b[0m\u001b[0;34m\u001b[0m\u001b[0m\n\u001b[0m\u001b[1;32m     69\u001b[0m \u001b[0;34m\u001b[0m\u001b[0m\n\u001b[1;32m     70\u001b[0m         \u001b[0;32mif\u001b[0m \u001b[0mlen\u001b[0m\u001b[0;34m(\u001b[0m\u001b[0mright_points\u001b[0m\u001b[0;34m)\u001b[0m \u001b[0;34m>\u001b[0m \u001b[0;36m0\u001b[0m\u001b[0;34m:\u001b[0m\u001b[0;34m\u001b[0m\u001b[0;34m\u001b[0m\u001b[0m\n",
      "\u001b[0;32m/home/apaz/.local/lib/python3.7/site-packages/vptree.py\u001b[0m in \u001b[0;36m__init__\u001b[0;34m(self, points, dist_fn)\u001b[0m\n\u001b[1;32m     66\u001b[0m \u001b[0;34m\u001b[0m\u001b[0m\n\u001b[1;32m     67\u001b[0m         \u001b[0;32mif\u001b[0m \u001b[0mlen\u001b[0m\u001b[0;34m(\u001b[0m\u001b[0mleft_points\u001b[0m\u001b[0;34m)\u001b[0m \u001b[0;34m>\u001b[0m \u001b[0;36m0\u001b[0m\u001b[0;34m:\u001b[0m\u001b[0;34m\u001b[0m\u001b[0;34m\u001b[0m\u001b[0m\n\u001b[0;32m---> 68\u001b[0;31m             \u001b[0mself\u001b[0m\u001b[0;34m.\u001b[0m\u001b[0mleft\u001b[0m \u001b[0;34m=\u001b[0m \u001b[0mVPTree\u001b[0m\u001b[0;34m(\u001b[0m\u001b[0mpoints\u001b[0m\u001b[0;34m=\u001b[0m\u001b[0mleft_points\u001b[0m\u001b[0;34m,\u001b[0m \u001b[0mdist_fn\u001b[0m\u001b[0;34m=\u001b[0m\u001b[0mself\u001b[0m\u001b[0;34m.\u001b[0m\u001b[0mdist_fn\u001b[0m\u001b[0;34m)\u001b[0m\u001b[0;34m\u001b[0m\u001b[0;34m\u001b[0m\u001b[0m\n\u001b[0m\u001b[1;32m     69\u001b[0m \u001b[0;34m\u001b[0m\u001b[0m\n\u001b[1;32m     70\u001b[0m         \u001b[0;32mif\u001b[0m \u001b[0mlen\u001b[0m\u001b[0;34m(\u001b[0m\u001b[0mright_points\u001b[0m\u001b[0;34m)\u001b[0m \u001b[0;34m>\u001b[0m \u001b[0;36m0\u001b[0m\u001b[0;34m:\u001b[0m\u001b[0;34m\u001b[0m\u001b[0;34m\u001b[0m\u001b[0m\n",
      "\u001b[0;32m/home/apaz/.local/lib/python3.7/site-packages/vptree.py\u001b[0m in \u001b[0;36m__init__\u001b[0;34m(self, points, dist_fn)\u001b[0m\n\u001b[1;32m     69\u001b[0m \u001b[0;34m\u001b[0m\u001b[0m\n\u001b[1;32m     70\u001b[0m         \u001b[0;32mif\u001b[0m \u001b[0mlen\u001b[0m\u001b[0;34m(\u001b[0m\u001b[0mright_points\u001b[0m\u001b[0;34m)\u001b[0m \u001b[0;34m>\u001b[0m \u001b[0;36m0\u001b[0m\u001b[0;34m:\u001b[0m\u001b[0;34m\u001b[0m\u001b[0;34m\u001b[0m\u001b[0m\n\u001b[0;32m---> 71\u001b[0;31m             \u001b[0mself\u001b[0m\u001b[0;34m.\u001b[0m\u001b[0mright\u001b[0m \u001b[0;34m=\u001b[0m \u001b[0mVPTree\u001b[0m\u001b[0;34m(\u001b[0m\u001b[0mpoints\u001b[0m\u001b[0;34m=\u001b[0m\u001b[0mright_points\u001b[0m\u001b[0;34m,\u001b[0m \u001b[0mdist_fn\u001b[0m\u001b[0;34m=\u001b[0m\u001b[0mself\u001b[0m\u001b[0;34m.\u001b[0m\u001b[0mdist_fn\u001b[0m\u001b[0;34m)\u001b[0m\u001b[0;34m\u001b[0m\u001b[0;34m\u001b[0m\u001b[0m\n\u001b[0m\u001b[1;32m     72\u001b[0m \u001b[0;34m\u001b[0m\u001b[0m\n\u001b[1;32m     73\u001b[0m     \u001b[0;32mdef\u001b[0m \u001b[0m_is_leaf\u001b[0m\u001b[0;34m(\u001b[0m\u001b[0mself\u001b[0m\u001b[0;34m)\u001b[0m\u001b[0;34m:\u001b[0m\u001b[0;34m\u001b[0m\u001b[0;34m\u001b[0m\u001b[0m\n",
      "... last 1 frames repeated, from the frame below ...\n",
      "\u001b[0;32m/home/apaz/.local/lib/python3.7/site-packages/vptree.py\u001b[0m in \u001b[0;36m__init__\u001b[0;34m(self, points, dist_fn)\u001b[0m\n\u001b[1;32m     69\u001b[0m \u001b[0;34m\u001b[0m\u001b[0m\n\u001b[1;32m     70\u001b[0m         \u001b[0;32mif\u001b[0m \u001b[0mlen\u001b[0m\u001b[0;34m(\u001b[0m\u001b[0mright_points\u001b[0m\u001b[0;34m)\u001b[0m \u001b[0;34m>\u001b[0m \u001b[0;36m0\u001b[0m\u001b[0;34m:\u001b[0m\u001b[0;34m\u001b[0m\u001b[0;34m\u001b[0m\u001b[0m\n\u001b[0;32m---> 71\u001b[0;31m             \u001b[0mself\u001b[0m\u001b[0;34m.\u001b[0m\u001b[0mright\u001b[0m \u001b[0;34m=\u001b[0m \u001b[0mVPTree\u001b[0m\u001b[0;34m(\u001b[0m\u001b[0mpoints\u001b[0m\u001b[0;34m=\u001b[0m\u001b[0mright_points\u001b[0m\u001b[0;34m,\u001b[0m \u001b[0mdist_fn\u001b[0m\u001b[0;34m=\u001b[0m\u001b[0mself\u001b[0m\u001b[0;34m.\u001b[0m\u001b[0mdist_fn\u001b[0m\u001b[0;34m)\u001b[0m\u001b[0;34m\u001b[0m\u001b[0;34m\u001b[0m\u001b[0m\n\u001b[0m\u001b[1;32m     72\u001b[0m \u001b[0;34m\u001b[0m\u001b[0m\n\u001b[1;32m     73\u001b[0m     \u001b[0;32mdef\u001b[0m \u001b[0m_is_leaf\u001b[0m\u001b[0;34m(\u001b[0m\u001b[0mself\u001b[0m\u001b[0;34m)\u001b[0m\u001b[0;34m:\u001b[0m\u001b[0;34m\u001b[0m\u001b[0;34m\u001b[0m\u001b[0m\n",
      "\u001b[0;31mRecursionError\u001b[0m: maximum recursion depth exceeded while calling a Python object"
     ]
    }
   ],
   "source": [
    "# Construct a vantage point tree for efficient nearest neighbor lookup\n",
    "from vptree import VPTree\n",
    "vpt = VPTree(embeddings, compare_vectors)"
   ]
  },
  {
   "cell_type": "code",
   "execution_count": null,
   "metadata": {
    "tags": []
   },
   "outputs": [],
   "source": [
    "plt.imshow(Image.open('VP_Test_Img.png'));\n",
    "plt.show()\n",
    "\n",
    "show_matches(vpt.get_n_nearest_neighbors(embeddings[4], 5))"
   ]
  },
  {
   "cell_type": "code",
   "execution_count": 25,
   "metadata": {},
   "outputs": [],
   "source": [
    "# Construct a vantage point tree for efficient nearest neighbor lookup\n",
    "from sys import setrecursionlimit\n",
    "setrecursionlimit(1500)"
   ]
  },
  {
   "cell_type": "code",
   "execution_count": null,
   "metadata": {},
   "outputs": [],
   "source": []
  }
 ],
 "metadata": {
  "kernelspec": {
   "display_name": "Python 3",
   "language": "python",
   "name": "python3"
  },
  "language_info": {
   "codemirror_mode": {
    "name": "ipython",
    "version": 3
   },
   "file_extension": ".py",
   "mimetype": "text/x-python",
   "name": "python",
   "nbconvert_exporter": "python",
   "pygments_lexer": "ipython3",
   "version": "3.7.3-final"
  }
 },
 "nbformat": 4,
 "nbformat_minor": 2
}