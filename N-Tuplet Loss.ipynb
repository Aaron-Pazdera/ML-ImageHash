{
 "cells": [
  {
   "cell_type": "code",
   "execution_count": 1,
   "metadata": {
    "scrolled": true
   },
   "outputs": [],
   "source": [
    "import torch\n",
    "from torch import nn\n",
    "\n",
    "import numpy as np\n",
    "from PIL import Image\n",
    "%matplotlib inline"
   ]
  },
  {
   "cell_type": "markdown",
   "metadata": {},
   "source": [
    "\n",
    "# Model"
   ]
  },
  {
   "cell_type": "code",
   "execution_count": 2,
   "metadata": {
    "scrolled": true,
    "tags": []
   },
   "outputs": [
    {
     "output_type": "stream",
     "name": "stdout",
     "text": "----------------------------------------------------------------\n        Layer (type)               Output Shape         Param #\n================================================================\n            Conv2d-1           [-1, 16, 32, 32]             448\n         MaxPool2d-2           [-1, 16, 32, 32]               0\n              ReLU-3           [-1, 16, 32, 32]               0\n       BatchNorm2d-4           [-1, 16, 32, 32]              32\n       HasherBlock-5           [-1, 16, 32, 32]               0\n            Conv2d-6           [-1, 20, 16, 16]           2,900\n         MaxPool2d-7           [-1, 20, 16, 16]               0\n              ReLU-8           [-1, 20, 16, 16]               0\n       BatchNorm2d-9           [-1, 20, 16, 16]              40\n      HasherBlock-10           [-1, 20, 16, 16]               0\n           Conv2d-11             [-1, 28, 8, 8]           5,068\n        MaxPool2d-12             [-1, 28, 8, 8]               0\n             ReLU-13             [-1, 28, 8, 8]               0\n      BatchNorm2d-14             [-1, 28, 8, 8]              56\n      HasherBlock-15             [-1, 28, 8, 8]               0\n           Conv2d-16             [-1, 32, 4, 4]           8,096\n        MaxPool2d-17             [-1, 32, 4, 4]               0\n             ReLU-18             [-1, 32, 4, 4]               0\n      BatchNorm2d-19             [-1, 32, 4, 4]              64\n      HasherBlock-20             [-1, 32, 4, 4]               0\n           Conv2d-21             [-1, 40, 2, 2]          11,560\n        MaxPool2d-22             [-1, 40, 2, 2]               0\n             ReLU-23             [-1, 40, 2, 2]               0\n      BatchNorm2d-24             [-1, 40, 2, 2]              80\n      HasherBlock-25             [-1, 40, 2, 2]               0\nAdaptiveMaxPool2d-26             [-1, 40, 1, 1]               0\n          Flatten-27                   [-1, 40]               0\n           Linear-28                   [-1, 24]             984\n             ReLU-29                   [-1, 24]               0\n           Linear-30                   [-1, 16]             400\n             Tanh-31                   [-1, 16]               0\n================================================================\nTotal params: 29,728\nTrainable params: 29,728\nNon-trainable params: 0\n----------------------------------------------------------------\nInput size (MB): 0.05\nForward/backward pass size (MB): 0.92\nParams size (MB): 0.11\nEstimated Total Size (MB): 1.08\n----------------------------------------------------------------\n"
    }
   ],
   "source": [
    "from Models import CustomHasher, SmallHasher, ResnetHasher\n",
    "SmallHasher().visualize()\n",
    "model = SmallHasher()"
   ]
  },
  {
   "cell_type": "markdown",
   "metadata": {},
   "source": [
    "# Load Training Data"
   ]
  },
  {
   "cell_type": "code",
   "execution_count": 3,
   "metadata": {
    "scrolled": true
   },
   "outputs": [],
   "source": [
    "import glob\n",
    "class TripletDataset(torch.utils.data.Dataset):    \n",
    "    def __init__(self, directory, transforms):\n",
    "        self.transforms = transforms\n",
    "        \n",
    "        self.file_list = glob.glob(f'{directory}/*.png')\n",
    "        self.file_list.sort()\n",
    "        self.num_items_available = len(self.file_list)\n",
    "\n",
    "        # from imageaug\n",
    "        self._tt = ToRGBTensor()\n",
    "        \n",
    "        print(f'Found {len(self.file_list)} images.')\n",
    "\n",
    "    def __len__(self):\n",
    "        return self.num_items_available\n",
    "    \n",
    "    def __getitem__(self, index):\n",
    "        anchor   = Image.open(self.file_list[index])\n",
    "        positive = self.transforms(anchor)\n",
    "\n",
    "        return (self._tt(anchor), self._tt(positive))"
   ]
  },
  {
   "cell_type": "markdown",
   "metadata": {},
   "source": [
    "### Image Augmentation/Transforms"
   ]
  },
  {
   "cell_type": "code",
   "execution_count": 4,
   "metadata": {
    "scrolled": true
   },
   "outputs": [],
   "source": [
    "from torchvision.transforms import Compose\n",
    "from imageaug import *\n",
    "\n",
    "transforms = Compose([\n",
    "    ApplyOne(Noise(), Greyscale()),\n",
    "    ApplyOne(RandomRotate(range(0, 360, 30)), RandomFillCrop(1))\n",
    "]) "
   ]
  },
  {
   "cell_type": "code",
   "execution_count": 5,
   "metadata": {
    "scrolled": true,
    "tags": []
   },
   "outputs": [
    {
     "output_type": "stream",
     "name": "stdout",
     "text": "Found 11049 images.\nFound 3684 images.\n"
    }
   ],
   "source": [
    "dataset = TripletDataset('TrainDataset', transforms)\n",
    "validationset = TripletDataset('ValidDataset', transforms)"
   ]
  },
  {
   "cell_type": "code",
   "execution_count": 6,
   "metadata": {
    "scrolled": true,
    "tags": []
   },
   "outputs": [
    {
     "output_type": "display_data",
     "data": {
      "text/plain": "&lt;Figure size 720x360 with 2 Axes&gt;",
      "image/svg+xml": "<?xml version=\"1.0\" encoding=\"utf-8\" standalone=\"no\"?>\n<!DOCTYPE svg PUBLIC \"-//W3C//DTD SVG 1.1//EN\"\n  \"http://www.w3.org/Graphics/SVG/1.1/DTD/svg11.dtd\">\n<!-- Created with matplotlib (https://matplotlib.org/) -->\n<svg height=\"286.532173pt\" version=\"1.1\" viewBox=\"0 0 592.125 286.532173\" width=\"592.125pt\" xmlns=\"http://www.w3.org/2000/svg\" xmlns:xlink=\"http://www.w3.org/1999/xlink\">\n <metadata>\n  <rdf:RDF xmlns:cc=\"http://creativecommons.org/ns#\" xmlns:dc=\"http://purl.org/dc/elements/1.1/\" xmlns:rdf=\"http://www.w3.org/1999/02/22-rdf-syntax-ns#\">\n   <cc:Work>\n    <dc:type rdf:resource=\"http://purl.org/dc/dcmitype/StillImage\"/>\n    <dc:date>2020-10-06T11:30:54.111221</dc:date>\n    <dc:format>image/svg+xml</dc:format>\n    <dc:creator>\n     <cc:Agent>\n      <dc:title>Matplotlib v3.3.2, https://matplotlib.org/</dc:title>\n     </cc:Agent>\n    </dc:creator>\n   </cc:Work>\n  </rdf:RDF>\n </metadata>\n <defs>\n  <style type=\"text/css\">*{stroke-linecap:butt;stroke-linejoin:round;}</style>\n </defs>\n <g id=\"figure_1\">\n  <g id=\"patch_1\">\n   <path d=\"M 0 286.532173 \nL 592.125 286.532173 \nL 592.125 0 \nL 0 0 \nz\n\" style=\"fill:none;\"/>\n  </g>\n  <g id=\"axes_1\">\n   <g id=\"patch_2\">\n    <path d=\"M 26.925 262.654048 \nL 280.561364 262.654048 \nL 280.561364 9.017685 \nL 26.925 9.017685 \nz\n\" style=\"fill:#ffffff;\"/>\n   </g>\n   <g clip-path=\"url(#p0456b2fe2c)\">\n    <image height=\"254\" id=\"image3746cb0102\" transform=\"scale(1 -1)translate(0 -254)\" width=\"254\" x=\"26.925\" xlink:href=\"data:image/png;base64,\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\" y=\"-8.654048\"/>\n   </g>\n   <g id=\"matplotlib.axis_1\">\n    <g id=\"xtick_1\">\n     <g id=\"line2d_1\">\n      <defs>\n       <path d=\"M 0 0 \nL 0 3.5 \n\" id=\"m6d5966aa2a\" style=\"stroke:#000000;stroke-width:0.8;\"/>\n      </defs>\n      <g>\n       <use style=\"stroke:#000000;stroke-width:0.8;\" x=\"28.906534\" xlink:href=\"#m6d5966aa2a\" y=\"262.654048\"/>\n      </g>\n     </g>\n     <g id=\"text_1\">\n      <!-- 0 -->\n      <g transform=\"translate(25.725284 277.252486)scale(0.1 -0.1)\">\n       <defs>\n        <path d=\"M 31.78125 66.40625 \nQ 24.171875 66.40625 20.328125 58.90625 \nQ 16.5 51.421875 16.5 36.375 \nQ 16.5 21.390625 20.328125 13.890625 \nQ 24.171875 6.390625 31.78125 6.390625 \nQ 39.453125 6.390625 43.28125 13.890625 \nQ 47.125 21.390625 47.125 36.375 \nQ 47.125 51.421875 43.28125 58.90625 \nQ 39.453125 66.40625 31.78125 66.40625 \nz\nM 31.78125 74.21875 \nQ 44.046875 74.21875 50.515625 64.515625 \nQ 56.984375 54.828125 56.984375 36.375 \nQ 56.984375 17.96875 50.515625 8.265625 \nQ 44.046875 -1.421875 31.78125 -1.421875 \nQ 19.53125 -1.421875 13.0625 8.265625 \nQ 6.59375 17.96875 6.59375 36.375 \nQ 6.59375 54.828125 13.0625 64.515625 \nQ 19.53125 74.21875 31.78125 74.21875 \nz\n\" id=\"DejaVuSans-48\"/>\n       </defs>\n       <use xlink:href=\"#DejaVuSans-48\"/>\n      </g>\n     </g>\n    </g>\n    <g id=\"xtick_2\">\n     <g id=\"line2d_2\">\n      <g>\n       <use style=\"stroke:#000000;stroke-width:0.8;\" x=\"68.537216\" xlink:href=\"#m6d5966aa2a\" y=\"262.654048\"/>\n      </g>\n     </g>\n     <g id=\"text_2\">\n      <!-- 10 -->\n      <g transform=\"translate(62.174716 277.252486)scale(0.1 -0.1)\">\n       <defs>\n        <path d=\"M 12.40625 8.296875 \nL 28.515625 8.296875 \nL 28.515625 63.921875 \nL 10.984375 60.40625 \nL 10.984375 69.390625 \nL 28.421875 72.90625 \nL 38.28125 72.90625 \nL 38.28125 8.296875 \nL 54.390625 8.296875 \nL 54.390625 0 \nL 12.40625 0 \nz\n\" id=\"DejaVuSans-49\"/>\n       </defs>\n       <use xlink:href=\"#DejaVuSans-49\"/>\n       <use x=\"63.623047\" xlink:href=\"#DejaVuSans-48\"/>\n      </g>\n     </g>\n    </g>\n    <g id=\"xtick_3\">\n     <g id=\"line2d_3\">\n      <g>\n       <use style=\"stroke:#000000;stroke-width:0.8;\" x=\"108.167898\" xlink:href=\"#m6d5966aa2a\" y=\"262.654048\"/>\n      </g>\n     </g>\n     <g id=\"text_3\">\n      <!-- 20 -->\n      <g transform=\"translate(101.805398 277.252486)scale(0.1 -0.1)\">\n       <defs>\n        <path d=\"M 19.1875 8.296875 \nL 53.609375 8.296875 \nL 53.609375 0 \nL 7.328125 0 \nL 7.328125 8.296875 \nQ 12.9375 14.109375 22.625 23.890625 \nQ 32.328125 33.6875 34.8125 36.53125 \nQ 39.546875 41.84375 41.421875 45.53125 \nQ 43.3125 49.21875 43.3125 52.78125 \nQ 43.3125 58.59375 39.234375 62.25 \nQ 35.15625 65.921875 28.609375 65.921875 \nQ 23.96875 65.921875 18.8125 64.3125 \nQ 13.671875 62.703125 7.8125 59.421875 \nL 7.8125 69.390625 \nQ 13.765625 71.78125 18.9375 73 \nQ 24.125 74.21875 28.421875 74.21875 \nQ 39.75 74.21875 46.484375 68.546875 \nQ 53.21875 62.890625 53.21875 53.421875 \nQ 53.21875 48.921875 51.53125 44.890625 \nQ 49.859375 40.875 45.40625 35.40625 \nQ 44.1875 33.984375 37.640625 27.21875 \nQ 31.109375 20.453125 19.1875 8.296875 \nz\n\" id=\"DejaVuSans-50\"/>\n       </defs>\n       <use xlink:href=\"#DejaVuSans-50\"/>\n       <use x=\"63.623047\" xlink:href=\"#DejaVuSans-48\"/>\n      </g>\n     </g>\n    </g>\n    <g id=\"xtick_4\">\n     <g id=\"line2d_4\">\n      <g>\n       <use style=\"stroke:#000000;stroke-width:0.8;\" x=\"147.79858\" xlink:href=\"#m6d5966aa2a\" y=\"262.654048\"/>\n      </g>\n     </g>\n     <g id=\"text_4\">\n      <!-- 30 -->\n      <g transform=\"translate(141.43608 277.252486)scale(0.1 -0.1)\">\n       <defs>\n        <path d=\"M 40.578125 39.3125 \nQ 47.65625 37.796875 51.625 33 \nQ 55.609375 28.21875 55.609375 21.1875 \nQ 55.609375 10.40625 48.1875 4.484375 \nQ 40.765625 -1.421875 27.09375 -1.421875 \nQ 22.515625 -1.421875 17.65625 -0.515625 \nQ 12.796875 0.390625 7.625 2.203125 \nL 7.625 11.71875 \nQ 11.71875 9.328125 16.59375 8.109375 \nQ 21.484375 6.890625 26.8125 6.890625 \nQ 36.078125 6.890625 40.9375 10.546875 \nQ 45.796875 14.203125 45.796875 21.1875 \nQ 45.796875 27.640625 41.28125 31.265625 \nQ 36.765625 34.90625 28.71875 34.90625 \nL 20.21875 34.90625 \nL 20.21875 43.015625 \nL 29.109375 43.015625 \nQ 36.375 43.015625 40.234375 45.921875 \nQ 44.09375 48.828125 44.09375 54.296875 \nQ 44.09375 59.90625 40.109375 62.90625 \nQ 36.140625 65.921875 28.71875 65.921875 \nQ 24.65625 65.921875 20.015625 65.03125 \nQ 15.375 64.15625 9.8125 62.3125 \nL 9.8125 71.09375 \nQ 15.4375 72.65625 20.34375 73.4375 \nQ 25.25 74.21875 29.59375 74.21875 \nQ 40.828125 74.21875 47.359375 69.109375 \nQ 53.90625 64.015625 53.90625 55.328125 \nQ 53.90625 49.265625 50.4375 45.09375 \nQ 46.96875 40.921875 40.578125 39.3125 \nz\n\" id=\"DejaVuSans-51\"/>\n       </defs>\n       <use xlink:href=\"#DejaVuSans-51\"/>\n       <use x=\"63.623047\" xlink:href=\"#DejaVuSans-48\"/>\n      </g>\n     </g>\n    </g>\n    <g id=\"xtick_5\">\n     <g id=\"line2d_5\">\n      <g>\n       <use style=\"stroke:#000000;stroke-width:0.8;\" x=\"187.429261\" xlink:href=\"#m6d5966aa2a\" y=\"262.654048\"/>\n      </g>\n     </g>\n     <g id=\"text_5\">\n      <!-- 40 -->\n      <g transform=\"translate(181.066761 277.252486)scale(0.1 -0.1)\">\n       <defs>\n        <path d=\"M 37.796875 64.3125 \nL 12.890625 25.390625 \nL 37.796875 25.390625 \nz\nM 35.203125 72.90625 \nL 47.609375 72.90625 \nL 47.609375 25.390625 \nL 58.015625 25.390625 \nL 58.015625 17.1875 \nL 47.609375 17.1875 \nL 47.609375 0 \nL 37.796875 0 \nL 37.796875 17.1875 \nL 4.890625 17.1875 \nL 4.890625 26.703125 \nz\n\" id=\"DejaVuSans-52\"/>\n       </defs>\n       <use xlink:href=\"#DejaVuSans-52\"/>\n       <use x=\"63.623047\" xlink:href=\"#DejaVuSans-48\"/>\n      </g>\n     </g>\n    </g>\n    <g id=\"xtick_6\">\n     <g id=\"line2d_6\">\n      <g>\n       <use style=\"stroke:#000000;stroke-width:0.8;\" x=\"227.059943\" xlink:href=\"#m6d5966aa2a\" y=\"262.654048\"/>\n      </g>\n     </g>\n     <g id=\"text_6\">\n      <!-- 50 -->\n      <g transform=\"translate(220.697443 277.252486)scale(0.1 -0.1)\">\n       <defs>\n        <path d=\"M 10.796875 72.90625 \nL 49.515625 72.90625 \nL 49.515625 64.59375 \nL 19.828125 64.59375 \nL 19.828125 46.734375 \nQ 21.96875 47.46875 24.109375 47.828125 \nQ 26.265625 48.1875 28.421875 48.1875 \nQ 40.625 48.1875 47.75 41.5 \nQ 54.890625 34.8125 54.890625 23.390625 \nQ 54.890625 11.625 47.5625 5.09375 \nQ 40.234375 -1.421875 26.90625 -1.421875 \nQ 22.3125 -1.421875 17.546875 -0.640625 \nQ 12.796875 0.140625 7.71875 1.703125 \nL 7.71875 11.625 \nQ 12.109375 9.234375 16.796875 8.0625 \nQ 21.484375 6.890625 26.703125 6.890625 \nQ 35.15625 6.890625 40.078125 11.328125 \nQ 45.015625 15.765625 45.015625 23.390625 \nQ 45.015625 31 40.078125 35.4375 \nQ 35.15625 39.890625 26.703125 39.890625 \nQ 22.75 39.890625 18.8125 39.015625 \nQ 14.890625 38.140625 10.796875 36.28125 \nz\n\" id=\"DejaVuSans-53\"/>\n       </defs>\n       <use xlink:href=\"#DejaVuSans-53\"/>\n       <use x=\"63.623047\" xlink:href=\"#DejaVuSans-48\"/>\n      </g>\n     </g>\n    </g>\n    <g id=\"xtick_7\">\n     <g id=\"line2d_7\">\n      <g>\n       <use style=\"stroke:#000000;stroke-width:0.8;\" x=\"266.690625\" xlink:href=\"#m6d5966aa2a\" y=\"262.654048\"/>\n      </g>\n     </g>\n     <g id=\"text_7\">\n      <!-- 60 -->\n      <g transform=\"translate(260.328125 277.252486)scale(0.1 -0.1)\">\n       <defs>\n        <path d=\"M 33.015625 40.375 \nQ 26.375 40.375 22.484375 35.828125 \nQ 18.609375 31.296875 18.609375 23.390625 \nQ 18.609375 15.53125 22.484375 10.953125 \nQ 26.375 6.390625 33.015625 6.390625 \nQ 39.65625 6.390625 43.53125 10.953125 \nQ 47.40625 15.53125 47.40625 23.390625 \nQ 47.40625 31.296875 43.53125 35.828125 \nQ 39.65625 40.375 33.015625 40.375 \nz\nM 52.59375 71.296875 \nL 52.59375 62.3125 \nQ 48.875 64.0625 45.09375 64.984375 \nQ 41.3125 65.921875 37.59375 65.921875 \nQ 27.828125 65.921875 22.671875 59.328125 \nQ 17.53125 52.734375 16.796875 39.40625 \nQ 19.671875 43.65625 24.015625 45.921875 \nQ 28.375 48.1875 33.59375 48.1875 \nQ 44.578125 48.1875 50.953125 41.515625 \nQ 57.328125 34.859375 57.328125 23.390625 \nQ 57.328125 12.15625 50.6875 5.359375 \nQ 44.046875 -1.421875 33.015625 -1.421875 \nQ 20.359375 -1.421875 13.671875 8.265625 \nQ 6.984375 17.96875 6.984375 36.375 \nQ 6.984375 53.65625 15.1875 63.9375 \nQ 23.390625 74.21875 37.203125 74.21875 \nQ 40.921875 74.21875 44.703125 73.484375 \nQ 48.484375 72.75 52.59375 71.296875 \nz\n\" id=\"DejaVuSans-54\"/>\n       </defs>\n       <use xlink:href=\"#DejaVuSans-54\"/>\n       <use x=\"63.623047\" xlink:href=\"#DejaVuSans-48\"/>\n      </g>\n     </g>\n    </g>\n   </g>\n   <g id=\"matplotlib.axis_2\">\n    <g id=\"ytick_1\">\n     <g id=\"line2d_8\">\n      <defs>\n       <path d=\"M 0 0 \nL -3.5 0 \n\" id=\"m0722ef3c0e\" style=\"stroke:#000000;stroke-width:0.8;\"/>\n      </defs>\n      <g>\n       <use style=\"stroke:#000000;stroke-width:0.8;\" x=\"26.925\" xlink:href=\"#m0722ef3c0e\" y=\"10.999219\"/>\n      </g>\n     </g>\n     <g id=\"text_8\">\n      <!-- 0 -->\n      <g transform=\"translate(13.5625 14.798437)scale(0.1 -0.1)\">\n       <use xlink:href=\"#DejaVuSans-48\"/>\n      </g>\n     </g>\n    </g>\n    <g id=\"ytick_2\">\n     <g id=\"line2d_9\">\n      <g>\n       <use style=\"stroke:#000000;stroke-width:0.8;\" x=\"26.925\" xlink:href=\"#m0722ef3c0e\" y=\"50.629901\"/>\n      </g>\n     </g>\n     <g id=\"text_9\">\n      <!-- 10 -->\n      <g transform=\"translate(7.2 54.429119)scale(0.1 -0.1)\">\n       <use xlink:href=\"#DejaVuSans-49\"/>\n       <use x=\"63.623047\" xlink:href=\"#DejaVuSans-48\"/>\n      </g>\n     </g>\n    </g>\n    <g id=\"ytick_3\">\n     <g id=\"line2d_10\">\n      <g>\n       <use style=\"stroke:#000000;stroke-width:0.8;\" x=\"26.925\" xlink:href=\"#m0722ef3c0e\" y=\"90.260582\"/>\n      </g>\n     </g>\n     <g id=\"text_10\">\n      <!-- 20 -->\n      <g transform=\"translate(7.2 94.059801)scale(0.1 -0.1)\">\n       <use xlink:href=\"#DejaVuSans-50\"/>\n       <use x=\"63.623047\" xlink:href=\"#DejaVuSans-48\"/>\n      </g>\n     </g>\n    </g>\n    <g id=\"ytick_4\">\n     <g id=\"line2d_11\">\n      <g>\n       <use style=\"stroke:#000000;stroke-width:0.8;\" x=\"26.925\" xlink:href=\"#m0722ef3c0e\" y=\"129.891264\"/>\n      </g>\n     </g>\n     <g id=\"text_11\">\n      <!-- 30 -->\n      <g transform=\"translate(7.2 133.690483)scale(0.1 -0.1)\">\n       <use xlink:href=\"#DejaVuSans-51\"/>\n       <use x=\"63.623047\" xlink:href=\"#DejaVuSans-48\"/>\n      </g>\n     </g>\n    </g>\n    <g id=\"ytick_5\">\n     <g id=\"line2d_12\">\n      <g>\n       <use style=\"stroke:#000000;stroke-width:0.8;\" x=\"26.925\" xlink:href=\"#m0722ef3c0e\" y=\"169.521946\"/>\n      </g>\n     </g>\n     <g id=\"text_12\">\n      <!-- 40 -->\n      <g transform=\"translate(7.2 173.321165)scale(0.1 -0.1)\">\n       <use xlink:href=\"#DejaVuSans-52\"/>\n       <use x=\"63.623047\" xlink:href=\"#DejaVuSans-48\"/>\n      </g>\n     </g>\n    </g>\n    <g id=\"ytick_6\">\n     <g id=\"line2d_13\">\n      <g>\n       <use style=\"stroke:#000000;stroke-width:0.8;\" x=\"26.925\" xlink:href=\"#m0722ef3c0e\" y=\"209.152628\"/>\n      </g>\n     </g>\n     <g id=\"text_13\">\n      <!-- 50 -->\n      <g transform=\"translate(7.2 212.951847)scale(0.1 -0.1)\">\n       <use xlink:href=\"#DejaVuSans-53\"/>\n       <use x=\"63.623047\" xlink:href=\"#DejaVuSans-48\"/>\n      </g>\n     </g>\n    </g>\n    <g id=\"ytick_7\">\n     <g id=\"line2d_14\">\n      <g>\n       <use style=\"stroke:#000000;stroke-width:0.8;\" x=\"26.925\" xlink:href=\"#m0722ef3c0e\" y=\"248.78331\"/>\n      </g>\n     </g>\n     <g id=\"text_14\">\n      <!-- 60 -->\n      <g transform=\"translate(7.2 252.582528)scale(0.1 -0.1)\">\n       <use xlink:href=\"#DejaVuSans-54\"/>\n       <use x=\"63.623047\" xlink:href=\"#DejaVuSans-48\"/>\n      </g>\n     </g>\n    </g>\n   </g>\n   <g id=\"patch_3\">\n    <path d=\"M 26.925 262.654048 \nL 26.925 9.017685 \n\" style=\"fill:none;stroke:#000000;stroke-linecap:square;stroke-linejoin:miter;stroke-width:0.8;\"/>\n   </g>\n   <g id=\"patch_4\">\n    <path d=\"M 280.561364 262.654048 \nL 280.561364 9.017685 \n\" style=\"fill:none;stroke:#000000;stroke-linecap:square;stroke-linejoin:miter;stroke-width:0.8;\"/>\n   </g>\n   <g id=\"patch_5\">\n    <path d=\"M 26.925 262.654048 \nL 280.561364 262.654048 \n\" style=\"fill:none;stroke:#000000;stroke-linecap:square;stroke-linejoin:miter;stroke-width:0.8;\"/>\n   </g>\n   <g id=\"patch_6\">\n    <path d=\"M 26.925 9.017685 \nL 280.561364 9.017685 \n\" style=\"fill:none;stroke:#000000;stroke-linecap:square;stroke-linejoin:miter;stroke-width:0.8;\"/>\n   </g>\n  </g>\n  <g id=\"axes_2\">\n   <g id=\"patch_7\">\n    <path d=\"M 331.288636 262.654048 \nL 584.925 262.654048 \nL 584.925 9.017685 \nL 331.288636 9.017685 \nz\n\" style=\"fill:#ffffff;\"/>\n   </g>\n   <g clip-path=\"url(#pd4cf318070)\">\n    <image height=\"254\" id=\"image0fe454719a\" transform=\"scale(1 -1)translate(0 -254)\" width=\"254\" x=\"331.288636\" xlink:href=\"data:image/png;base64,\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\" y=\"-8.654048\"/>\n   </g>\n   <g id=\"matplotlib.axis_3\">\n    <g id=\"xtick_8\">\n     <g id=\"line2d_15\">\n      <g>\n       <use style=\"stroke:#000000;stroke-width:0.8;\" x=\"333.27017\" xlink:href=\"#m6d5966aa2a\" y=\"262.654048\"/>\n      </g>\n     </g>\n     <g id=\"text_15\">\n      <!-- 0 -->\n      <g transform=\"translate(330.08892 277.252486)scale(0.1 -0.1)\">\n       <use xlink:href=\"#DejaVuSans-48\"/>\n      </g>\n     </g>\n    </g>\n    <g id=\"xtick_9\">\n     <g id=\"line2d_16\">\n      <g>\n       <use style=\"stroke:#000000;stroke-width:0.8;\" x=\"372.900852\" xlink:href=\"#m6d5966aa2a\" y=\"262.654048\"/>\n      </g>\n     </g>\n     <g id=\"text_16\">\n      <!-- 10 -->\n      <g transform=\"translate(366.538352 277.252486)scale(0.1 -0.1)\">\n       <use xlink:href=\"#DejaVuSans-49\"/>\n       <use x=\"63.623047\" xlink:href=\"#DejaVuSans-48\"/>\n      </g>\n     </g>\n    </g>\n    <g id=\"xtick_10\">\n     <g id=\"line2d_17\">\n      <g>\n       <use style=\"stroke:#000000;stroke-width:0.8;\" x=\"412.531534\" xlink:href=\"#m6d5966aa2a\" y=\"262.654048\"/>\n      </g>\n     </g>\n     <g id=\"text_17\">\n      <!-- 20 -->\n      <g transform=\"translate(406.169034 277.252486)scale(0.1 -0.1)\">\n       <use xlink:href=\"#DejaVuSans-50\"/>\n       <use x=\"63.623047\" xlink:href=\"#DejaVuSans-48\"/>\n      </g>\n     </g>\n    </g>\n    <g id=\"xtick_11\">\n     <g id=\"line2d_18\">\n      <g>\n       <use style=\"stroke:#000000;stroke-width:0.8;\" x=\"452.162216\" xlink:href=\"#m6d5966aa2a\" y=\"262.654048\"/>\n      </g>\n     </g>\n     <g id=\"text_18\">\n      <!-- 30 -->\n      <g transform=\"translate(445.799716 277.252486)scale(0.1 -0.1)\">\n       <use xlink:href=\"#DejaVuSans-51\"/>\n       <use x=\"63.623047\" xlink:href=\"#DejaVuSans-48\"/>\n      </g>\n     </g>\n    </g>\n    <g id=\"xtick_12\">\n     <g id=\"line2d_19\">\n      <g>\n       <use style=\"stroke:#000000;stroke-width:0.8;\" x=\"491.792898\" xlink:href=\"#m6d5966aa2a\" y=\"262.654048\"/>\n      </g>\n     </g>\n     <g id=\"text_19\">\n      <!-- 40 -->\n      <g transform=\"translate(485.430398 277.252486)scale(0.1 -0.1)\">\n       <use xlink:href=\"#DejaVuSans-52\"/>\n       <use x=\"63.623047\" xlink:href=\"#DejaVuSans-48\"/>\n      </g>\n     </g>\n    </g>\n    <g id=\"xtick_13\">\n     <g id=\"line2d_20\">\n      <g>\n       <use style=\"stroke:#000000;stroke-width:0.8;\" x=\"531.42358\" xlink:href=\"#m6d5966aa2a\" y=\"262.654048\"/>\n      </g>\n     </g>\n     <g id=\"text_20\">\n      <!-- 50 -->\n      <g transform=\"translate(525.06108 277.252486)scale(0.1 -0.1)\">\n       <use xlink:href=\"#DejaVuSans-53\"/>\n       <use x=\"63.623047\" xlink:href=\"#DejaVuSans-48\"/>\n      </g>\n     </g>\n    </g>\n    <g id=\"xtick_14\">\n     <g id=\"line2d_21\">\n      <g>\n       <use style=\"stroke:#000000;stroke-width:0.8;\" x=\"571.054261\" xlink:href=\"#m6d5966aa2a\" y=\"262.654048\"/>\n      </g>\n     </g>\n     <g id=\"text_21\">\n      <!-- 60 -->\n      <g transform=\"translate(564.691761 277.252486)scale(0.1 -0.1)\">\n       <use xlink:href=\"#DejaVuSans-54\"/>\n       <use x=\"63.623047\" xlink:href=\"#DejaVuSans-48\"/>\n      </g>\n     </g>\n    </g>\n   </g>\n   <g id=\"matplotlib.axis_4\">\n    <g id=\"ytick_8\">\n     <g id=\"line2d_22\">\n      <g>\n       <use style=\"stroke:#000000;stroke-width:0.8;\" x=\"331.288636\" xlink:href=\"#m0722ef3c0e\" y=\"10.999219\"/>\n      </g>\n     </g>\n     <g id=\"text_22\">\n      <!-- 0 -->\n      <g transform=\"translate(317.926136 14.798438)scale(0.1 -0.1)\">\n       <use xlink:href=\"#DejaVuSans-48\"/>\n      </g>\n     </g>\n    </g>\n    <g id=\"ytick_9\">\n     <g id=\"line2d_23\">\n      <g>\n       <use style=\"stroke:#000000;stroke-width:0.8;\" x=\"331.288636\" xlink:href=\"#m0722ef3c0e\" y=\"50.629901\"/>\n      </g>\n     </g>\n     <g id=\"text_23\">\n      <!-- 10 -->\n      <g transform=\"translate(311.563636 54.429119)scale(0.1 -0.1)\">\n       <use xlink:href=\"#DejaVuSans-49\"/>\n       <use x=\"63.623047\" xlink:href=\"#DejaVuSans-48\"/>\n      </g>\n     </g>\n    </g>\n    <g id=\"ytick_10\">\n     <g id=\"line2d_24\">\n      <g>\n       <use style=\"stroke:#000000;stroke-width:0.8;\" x=\"331.288636\" xlink:href=\"#m0722ef3c0e\" y=\"90.260582\"/>\n      </g>\n     </g>\n     <g id=\"text_24\">\n      <!-- 20 -->\n      <g transform=\"translate(311.563636 94.059801)scale(0.1 -0.1)\">\n       <use xlink:href=\"#DejaVuSans-50\"/>\n       <use x=\"63.623047\" xlink:href=\"#DejaVuSans-48\"/>\n      </g>\n     </g>\n    </g>\n    <g id=\"ytick_11\">\n     <g id=\"line2d_25\">\n      <g>\n       <use style=\"stroke:#000000;stroke-width:0.8;\" x=\"331.288636\" xlink:href=\"#m0722ef3c0e\" y=\"129.891264\"/>\n      </g>\n     </g>\n     <g id=\"text_25\">\n      <!-- 30 -->\n      <g transform=\"translate(311.563636 133.690483)scale(0.1 -0.1)\">\n       <use xlink:href=\"#DejaVuSans-51\"/>\n       <use x=\"63.623047\" xlink:href=\"#DejaVuSans-48\"/>\n      </g>\n     </g>\n    </g>\n    <g id=\"ytick_12\">\n     <g id=\"line2d_26\">\n      <g>\n       <use style=\"stroke:#000000;stroke-width:0.8;\" x=\"331.288636\" xlink:href=\"#m0722ef3c0e\" y=\"169.521946\"/>\n      </g>\n     </g>\n     <g id=\"text_26\">\n      <!-- 40 -->\n      <g transform=\"translate(311.563636 173.321165)scale(0.1 -0.1)\">\n       <use xlink:href=\"#DejaVuSans-52\"/>\n       <use x=\"63.623047\" xlink:href=\"#DejaVuSans-48\"/>\n      </g>\n     </g>\n    </g>\n    <g id=\"ytick_13\">\n     <g id=\"line2d_27\">\n      <g>\n       <use style=\"stroke:#000000;stroke-width:0.8;\" x=\"331.288636\" xlink:href=\"#m0722ef3c0e\" y=\"209.152628\"/>\n      </g>\n     </g>\n     <g id=\"text_27\">\n      <!-- 50 -->\n      <g transform=\"translate(311.563636 212.951847)scale(0.1 -0.1)\">\n       <use xlink:href=\"#DejaVuSans-53\"/>\n       <use x=\"63.623047\" xlink:href=\"#DejaVuSans-48\"/>\n      </g>\n     </g>\n    </g>\n    <g id=\"ytick_14\">\n     <g id=\"line2d_28\">\n      <g>\n       <use style=\"stroke:#000000;stroke-width:0.8;\" x=\"331.288636\" xlink:href=\"#m0722ef3c0e\" y=\"248.78331\"/>\n      </g>\n     </g>\n     <g id=\"text_28\">\n      <!-- 60 -->\n      <g transform=\"translate(311.563636 252.582528)scale(0.1 -0.1)\">\n       <use xlink:href=\"#DejaVuSans-54\"/>\n       <use x=\"63.623047\" xlink:href=\"#DejaVuSans-48\"/>\n      </g>\n     </g>\n    </g>\n   </g>\n   <g id=\"patch_8\">\n    <path d=\"M 331.288636 262.654048 \nL 331.288636 9.017685 \n\" style=\"fill:none;stroke:#000000;stroke-linecap:square;stroke-linejoin:miter;stroke-width:0.8;\"/>\n   </g>\n   <g id=\"patch_9\">\n    <path d=\"M 584.925 262.654048 \nL 584.925 9.017685 \n\" style=\"fill:none;stroke:#000000;stroke-linecap:square;stroke-linejoin:miter;stroke-width:0.8;\"/>\n   </g>\n   <g id=\"patch_10\">\n    <path d=\"M 331.288636 262.654048 \nL 584.925 262.654048 \n\" style=\"fill:none;stroke:#000000;stroke-linecap:square;stroke-linejoin:miter;stroke-width:0.8;\"/>\n   </g>\n   <g id=\"patch_11\">\n    <path d=\"M 331.288636 9.017685 \nL 584.925 9.017685 \n\" style=\"fill:none;stroke:#000000;stroke-linecap:square;stroke-linejoin:miter;stroke-width:0.8;\"/>\n   </g>\n  </g>\n </g>\n <defs>\n  <clipPath id=\"p0456b2fe2c\">\n   <rect height=\"253.636364\" width=\"253.636364\" x=\"26.925\" y=\"9.017685\"/>\n  </clipPath>\n  <clipPath id=\"pd4cf318070\">\n   <rect height=\"253.636364\" width=\"253.636364\" x=\"331.288636\" y=\"9.017685\"/>\n  </clipPath>\n </defs>\n</svg>\n",
      "image/png": "[encoded data removed]"
     },
     "metadata": {
      "needs_background": "light"
     }
    }
   ],
   "source": [
    "from vistools import show_imgpair\n",
    "\n",
    "show_imgpair(dataset[0])"
   ]
  },
  {
   "cell_type": "markdown",
   "metadata": {},
   "source": [
    "## Hyperparameters"
   ]
  },
  {
   "cell_type": "code",
   "execution_count": 7,
   "metadata": {
    "scrolled": true
   },
   "outputs": [],
   "source": [
    "n = 64 * 4\n",
    "\n",
    "# Dataloader\n",
    "from torch.utils.data import DataLoader\n",
    "train_loader = DataLoader(dataset, num_workers=8, batch_size=n, shuffle=True, drop_last=True)\n",
    "valid_loader = DataLoader(validationset, num_workers=4, batch_size=n, shuffle=True, drop_last=True)\n",
    "\n",
    "# Model\n",
    "model = SmallHasher()\n",
    "\n",
    "# Loss\n",
    "alpha = 2\n",
    "p = 2\n",
    "\n",
    "# Optimizer\n",
    "opt = torch.optim.Adam(model.parameters(), lr=.01)"
   ]
  },
  {
   "cell_type": "markdown",
   "metadata": {},
   "source": [
    "## Triplet Loss:\n",
    "$$L(\\displaystyle A,\\displaystyle P,\\displaystyle N,\\displaystyle \\alpha) = max\\Big( d(f(\\displaystyle A), f(\\displaystyle N)) − d(f(\\displaystyle A), f(\\displaystyle P)) + \\displaystyle \\alpha, 0 \\Big)$$\n",
    "\n",
    "Where:\n",
    "* ${\\displaystyle A}$ is an anchor input, \n",
    "* ${\\displaystyle P}$ is a positive input of the same class as ${\\displaystyle A}$, \n",
    "* ${\\displaystyle N}$ is a negative input of a different class from ${\\displaystyle A}$, \n",
    "* ${\\displaystyle \\alpha }$  is a margin between positive and negative pairs, \n",
    "* ${\\displaystyle f}$ is an embedding onto a metric space (the model we're training), and \n",
    "* $d$ is a distance function on that space. (In this case L1 or L2 norm, Manhattan and Euclidean distance respectively).\n",
    "\n",
    "Taken from FaceNet paper\n",
    "https://arxiv.org/abs/1503.03832"
   ]
  },
  {
   "cell_type": "markdown",
   "metadata": {},
   "source": [
    "## N-Tuple Loss\n",
    "Triplet loss as described above accomplishes unsupervised learning of embeddings. This is all well and good, but what if we wanted to up the ante a bit? Triplet loss pushes the embeddings of two images farther apart. But what if we wanted to push even more embeddings apart, probably more intelligently, in a single step? Behold my monstrosity, n-tuple loss."
   ]
  },
  {
   "cell_type": "markdown",
   "metadata": {},
   "source": [
    "Let $f$ be an embedding from the input space onto metric space. In this case, $f$ represents our model.\n",
    "\n",
    "Let $d$ be a distance function on that metric space.\n",
    "\n",
    "Let $\\alpha$ be the desired distance margin between embeddings which do not have the same class.\n",
    "\n",
    "Let $A$ be a tuple of $n$ anchor inputs from separate classes, and $P$ be a tuple of $n$ corresponding positive matches from each class, and let that class be distinct. That is to say, $A_i$ and $P_i$ are of the same class, but the classes of $A_i$ and $A_j$, and of $A_i$ and $P_j$, are different for all $i,j$ from 0 to n-1 where $i \\neq j$.\n",
    "\n",
    "Finally, \n",
    "\n",
    "$$L(\\displaystyle A,\\displaystyle P,\\displaystyle \\alpha) = \\sum_{i=0}^{n-1} \\sum_{j=i+1}^{n-1} \\Big\\lbrack d(f(A_j), f(P_j)) - d(f(A_i),f(A_j)) + \\alpha \\Big\\rbrack_{+}.$$"
   ]
  },
  {
   "source": [
    "## But, why?"
   ],
   "cell_type": "markdown",
   "metadata": {}
  },
  {
   "source": [
    "The main difference is that training the model in this way allows for more information to be digested from each batch. Triplet loss is effective, but it is wasteful in the sense that there's a lot of computation that could be done to spread the embeddings that isn't being done.\n",
    "\n",
    "Suppose that $n$ images are run through the model. Half of the images become anchor images, half become negative images, and positive images are generated through data augmentation from the anchors. For normal triplet loss, this is a batch of $\\frac{n}{2}$ comparisons. Although at the end of the forward pass we have embeddings in memory to compute the loss for an anchor/positive pair and an anchor, and the results would be just as meaningful as the one that triplet loss compares it to, we do not.\n",
    "\n",
    "However, if we run the same $n$ images through the model and do the above, we can do a lot more cross comparison. We let anchor images also act as negatives, generate the positives through data augmentation, and make every comparison possible. This ends up being ${n\\choose 2} = \\frac{n^2 - n}{2}$ comparisons."
   ],
   "cell_type": "markdown",
   "metadata": {}
  },
  {
   "source": [
    "The number of comparisons that can be done grows quadratically by the above rate. This results in many more comparisons than normal triplet loss, hopefully leading to a higher quality of gradient updates and more accurate convergence.\n",
    "\n",
    "Suppose $n = 64$, which seems like a reasonable sample size. With triplet loss, 32 comparisons would be done. This scheme does 2,016 of them, with no additional forward passes required. As the sample size increases, which tends to happen when people are trying to train models faster and faster, the difference gets even more pronounced. A sample size of 128 yeilds 8,128 comparisons compared to triplet loss's 64."
   ],
   "cell_type": "markdown",
   "metadata": {}
  },
  {
   "source": [
    "It should be noted however that because the magnitude of the weight update is determined linearly by the size of the batch, and the effort required to cross compare a large number of combinations of samples may become too expensive to justify for the increase in the quality of the gradient update, particularly at the start of training the model.\n",
    "\n",
    "There are many factors that go into optimization at the end. "
   ],
   "cell_type": "markdown",
   "metadata": {}
  },
  {
   "cell_type": "markdown",
   "metadata": {},
   "source": [
    "## N-Tuple Loss Implementation"
   ]
  },
  {
   "cell_type": "code",
   "execution_count": 8,
   "metadata": {
    "tags": []
   },
   "outputs": [
    {
     "output_type": "stream",
     "name": "stdout",
     "text": "32640\n"
    }
   ],
   "source": [
    "# Generate all possible combinations of (i, j) for n given by the above scheme\n",
    "from itertools import combinations\n",
    "ij_pairs = list(combinations(range(0, n), r=2))\n",
    "num_combinations = len(ij_pairs)\n",
    "print(num_combinations)"
   ]
  },
  {
   "cell_type": "code",
   "execution_count": 9,
   "metadata": {
    "tags": []
   },
   "outputs": [],
   "source": [
    "from torch.nn.functional import pairwise_distance\n",
    "\n",
    "def loss_fn(anchor_embeddings, positive_embeddings, alpha=2, p=2):\n",
    "    # Embeddings are stacked tensors of batchnum many embeddings. These stacks have shape (n, embedding_size).\n",
    "\n",
    "    # Calculate distances between anchors and their respective positive matches.\n",
    "    ap_distances = pairwise_distance(anchor_embeddings, positive_embeddings, keepdim=True, p=p)\n",
    "\n",
    "\n",
    "    losses = []\n",
    "    for ij_pair in ij_pairs:\n",
    "        i, j = ij_pair\n",
    "        \n",
    "        combination_ij_distance = torch.dist(anchor_embeddings[i], anchor_embeddings[j], p=p)\n",
    "\n",
    "        # Minimizing this means maximizing combination_ij_distances and minimizing ap_distances.\n",
    "        dist = ap_distances[j] - combination_ij_distance  + alpha\n",
    "        \n",
    "        single_loss = torch.max(dist, torch.zeros_like(dist, requires_grad=True))\n",
    "        losses.append(single_loss)\n",
    "        \n",
    "    return sum(losses) / num_combinations"
   ]
  },
  {
   "cell_type": "markdown",
   "metadata": {},
   "source": [
    "# Training Loop"
   ]
  },
  {
   "cell_type": "code",
   "execution_count": 10,
   "metadata": {},
   "outputs": [],
   "source": [
    "from time import time\n",
    "\n",
    "# Returns loss\n",
    "def train_batch(model, batch, batchnum):\n",
    "        batch_start_time = time()\n",
    "\n",
    "        # Enable Training\n",
    "        model.train()\n",
    "        model.zero_grad()\n",
    "\n",
    "        # Forward\n",
    "        anchor_embeddings   = model.forward(batch[0])\n",
    "        positive_embeddings = model.forward(batch[1])\n",
    "        \n",
    "        # Backward\n",
    "        loss = loss_fn(anchor_embeddings, positive_embeddings, alpha=alpha, p=p)\n",
    "        loss.backward()\n",
    "        opt.step()\n",
    "\n",
    "        # Print\n",
    "        batch_end_time = time()\n",
    "        loss_num = loss.item()\n",
    "        if print_batches:\n",
    "            print_batch('train', loss_num, dataset, batch_start_time, batch_end_time)\n",
    "        \n",
    "        return loss_num\n",
    "\n",
    "\n",
    "# Returns loss\n",
    "def valid_batch(model, vbatch, batch_num):\n",
    "        batch_start_time = time()\n",
    "\n",
    "        # Disable Training\n",
    "        with torch.no_grad():\n",
    "                model.eval()\n",
    "\n",
    "                # Forward\n",
    "                anchor_embeddings   = model.forward(vbatch[0])\n",
    "                positive_embeddings = model.forward(vbatch[1])\n",
    "        \n",
    "                # Calculate loss, no backward pass\n",
    "                loss = loss_fn(anchor_embeddings, positive_embeddings, alpha=alpha, p=p)\n",
    "\n",
    "                # Print\n",
    "                batch_end_time = time()\n",
    "                loss_num = loss.item()\n",
    "                if print_batches:\n",
    "                    print_batch('valid', loss_num, validationset, batch_start_time, batch_end_time)\n",
    "        \n",
    "        return loss_num"
   ]
  },
  {
   "cell_type": "code",
   "execution_count": 11,
   "metadata": {},
   "outputs": [],
   "source": [
    "print_batches = True\n",
    "def print_batch(tv, loss_num, dataset, batch_start_time, batch_end_time):\n",
    "        batch_time = round(batch_end_time-batch_start_time, 2)\n",
    "        num_batches = (dataset.num_items_available // n) - 1\n",
    "        est_epoch_time_seconds = batch_time*num_batches\n",
    "        est_epoch_time_minutes = round(est_epoch_time_seconds / 60, 2)\n",
    "        print(f'\\rCompleted {tv} batch: {str(batch_num).rjust(4, \" \")} of {num_batches} | \\\n",
    "Loss: {\"{:6.4f}\".format(loss_num)} | \\\n",
    "Time: {str(batch_time).rjust(6, \" \")} (est. {\"{:4.1f}\".format(est_epoch_time_minutes)} min for epoch)', end='')"
   ]
  },
  {
   "cell_type": "code",
   "execution_count": 12,
   "metadata": {
    "scrolled": true,
    "tags": []
   },
   "outputs": [
    {
     "output_type": "stream",
     "name": "stdout",
     "text": "Completed train batch:   42 of 42 | Loss: 0.1339 | Time:  10.41 (est.  7.3 min for epoch)\nCompleted valid batch:   13 of 13 | Loss: 0.1503 | Time:   2.11 (est.  0.5 min for epoch)\n╔══════════════════════════════════════════════════════════════════╗\n║ End of Epoch:   1 | Validation Loss:  0.1481 | Time:   8.14 min. ║\n╚══════════════════════════════════════════════════════════════════╝\n\nCompleted train batch:   42 of 42 | Loss: 0.1049 | Time:   9.31 (est.  6.5 min for epoch)\nCompleted valid batch:   13 of 13 | Loss: 0.0963 | Time:    2.0 (est.  0.4 min for epoch)\n╔══════════════════════════════════════════════════════════════════╗\n║ End of Epoch:   2 | Validation Loss:  0.1023 | Time:   7.71 min. ║\n╚══════════════════════════════════════════════════════════════════╝\n\nCompleted train batch:   42 of 42 | Loss: 0.0786 | Time:    9.6 (est.  6.7 min for epoch)\nCompleted valid batch:   13 of 13 | Loss: 0.0698 | Time:   1.79 (est.  0.4 min for epoch)\n╔══════════════════════════════════════════════════════════════════╗\n║ End of Epoch:   3 | Validation Loss:  0.0784 | Time:   8.44 min. ║\n╚══════════════════════════════════════════════════════════════════╝\n\nCompleted train batch:   42 of 42 | Loss: 0.0736 | Time:   9.96 (est.  7.0 min for epoch)\nCompleted valid batch:   13 of 13 | Loss: 0.0700 | Time:    2.1 (est.  0.5 min for epoch)\n╔══════════════════════════════════════════════════════════════════╗\n║ End of Epoch:   4 | Validation Loss:  0.0764 | Time:   7.72 min. ║\n╚══════════════════════════════════════════════════════════════════╝\n\nCompleted train batch:   42 of 42 | Loss: 0.0654 | Time:   9.85 (est.  6.9 min for epoch)\nCompleted valid batch:   13 of 13 | Loss: 0.0768 | Time:   1.87 (est.  0.4 min for epoch)\n╔══════════════════════════════════════════════════════════════════╗\n║ End of Epoch:   5 | Validation Loss:  0.0726 | Time:   7.46 min. ║\n╚══════════════════════════════════════════════════════════════════╝\n\nCompleted train batch:   42 of 42 | Loss: 0.0716 | Time:   9.42 (est.  6.6 min for epoch)\nCompleted valid batch:   13 of 13 | Loss: 0.0720 | Time:   1.76 (est.  0.4 min for epoch)\n╔══════════════════════════════════════════════════════════════════╗\n║ End of Epoch:   6 | Validation Loss:  0.0714 | Time:   7.48 min. ║\n╚══════════════════════════════════════════════════════════════════╝\n\nCompleted train batch:   42 of 42 | Loss: 0.0632 | Time:  10.14 (est.  7.1 min for epoch)\nCompleted valid batch:   13 of 13 | Loss: 0.0702 | Time:   2.08 (est.  0.5 min for epoch)\n╔══════════════════════════════════════════════════════════════════╗\n║ End of Epoch:   7 | Validation Loss:  0.0698 | Time:   7.67 min. ║\n╚══════════════════════════════════════════════════════════════════╝\n\nCompleted train batch:   42 of 42 | Loss: 0.0564 | Time:  10.29 (est.  7.2 min for epoch)\nCompleted valid batch:   13 of 13 | Loss: 0.0680 | Time:   2.08 (est.  0.5 min for epoch)\n╔══════════════════════════════════════════════════════════════════╗\n║ End of Epoch:   8 | Validation Loss:  0.0634 | Time:    8.3 min. ║\n╚══════════════════════════════════════════════════════════════════╝\n\nCompleted train batch:   42 of 42 | Loss: 0.0565 | Time:  10.26 (est.  7.2 min for epoch)\nCompleted valid batch:   13 of 13 | Loss: 0.0654 | Time:   2.02 (est.  0.4 min for epoch)\n╔══════════════════════════════════════════════════════════════════╗\n║ End of Epoch:   9 | Validation Loss:  0.0661 | Time:    8.4 min. ║\n╚══════════════════════════════════════════════════════════════════╝\n\n"
    }
   ],
   "source": [
    "import copy\n",
    "best_weights = None\n",
    "best_loss = np.inf\n",
    "\n",
    "# Train for at most 1000 epochs. There's no way it will take that long.\n",
    "for epoch in range(1, 1001):\n",
    "    \n",
    "    # Training Batches\n",
    "    batch_num = 0\n",
    "    epoch_start_time = time()\n",
    "    for batch_num, batch in enumerate(train_loader):\n",
    "        train_batch(model, batch, batch_num)\n",
    "    \n",
    "    # So carriage return prints train/valid on different lines\n",
    "    if print_batches:\n",
    "        print()\n",
    "\n",
    "    # Validation batches\n",
    "    batch_num = 0\n",
    "    batch_valid_losses = []\n",
    "    for batch_num, vbatch in enumerate(valid_loader):\n",
    "        loss_num = valid_batch(model, vbatch, batch_num)\n",
    "        batch_valid_losses.append(loss_num)\n",
    "    valid_loss = sum(batch_valid_losses) / len(batch_valid_losses)\n",
    "    \n",
    "\n",
    "    # Print epoch results\n",
    "    epoch_end_time = time()\n",
    "    epoch_time_minutes = round((epoch_end_time - epoch_start_time) / 60, 2)\n",
    "    print(f\"\"\"\\n\\\n",
    "╔══════════════════════════════════════════════════════════════════╗\\n║ \\\n",
    "End of Epoch: {str(epoch).rjust(3, \" \")} | \\\n",
    "Validation Loss: {\"{:7.4f}\".format(valid_loss)} | \\\n",
    "Time: {str(epoch_time_minutes).rjust(6, \" \")} min. ║\\n\\\n",
    "╚══════════════════════════════════════════════════════════════════╝\\n\"\"\")\n",
    "    \n",
    "    # Save best weigths, early stopping\n",
    "    if best_loss < valid_loss:\n",
    "        # Cannot on first pass b/c best_loss is infinity. Then it \n",
    "        # proceeds to the else. This handles early stopping.\n",
    "        break\n",
    "    else:\n",
    "        # The model has not overfit. Save the weights and keep going until it does.\n",
    "        best_weights = copy.deepcopy(model.state_dict()), \n",
    "        best_loss = valid_loss"
   ]
  },
  {
   "cell_type": "markdown",
   "metadata": {},
   "source": [
    "# Export Model"
   ]
  },
  {
   "cell_type": "code",
   "execution_count": 13,
   "metadata": {
    "tags": []
   },
   "outputs": [
    {
     "output_type": "stream",
     "name": "stdout",
     "text": "Saved model as: Models/model1.zip\n"
    }
   ],
   "source": [
    "export_model = True\n",
    "model_path = 'Models/model%s.zip' \n",
    "\n",
    "\n",
    "def next_path(path_pattern):\n",
    "    i = 1\n",
    "    while os.path.exists(path_pattern % i):\n",
    "        i += 1\n",
    "    return path_pattern % i\n",
    "\n",
    "if export_model:\n",
    "    fname = next_path(model_path)\n",
    "    torch.save(model, fname)\n",
    "    print(f'Saved model as: {fname}')"
   ]
  },
  {
   "source": [
    "# Test Model"
   ],
   "cell_type": "markdown",
   "metadata": {}
  },
  {
   "cell_type": "code",
   "execution_count": 14,
   "metadata": {},
   "outputs": [],
   "source": [
    "tt = ToRGBTensor()\n",
    "def load_img(fname):\n",
    "    return tt(Image.open(fname)).unsqueeze(0)\n",
    "def compare_vectors(v1, v2):\n",
    "    vec1, vec2 = v1[0], v2[0] # b/c second term is the file name\n",
    "    return np.linalg.norm(vec1-vec2)"
   ]
  },
  {
   "cell_type": "code",
   "execution_count": 15,
   "metadata": {},
   "outputs": [],
   "source": [
    "from vptree import VPTree\n",
    "import matplotlib.pyplot as plt\n",
    "\n",
    "embeddings = []\n",
    "\n",
    "# Turn off gradients\n",
    "with torch.no_grad():\n",
    "    model.eval()\n",
    "    \n",
    "    # Load all the training data and hash it\n",
    "    for fname in dataset.file_list:\n",
    "        embedding = model.forward(load_img(fname)).numpy()\n",
    "        embeddings.append((embedding, fname))\n",
    "    for fname in validationset.file_list:\n",
    "        embedding = model.forward(load_img(fname)).numpy()\n",
    "        embeddings.append((embedding, fname))"
   ]
  },
  {
   "cell_type": "code",
   "execution_count": 16,
   "metadata": {
    "tags": []
   },
   "outputs": [],
   "source": [
    "# Construct a vantage point tree for efficient nearest neighbor lookup\n",
    "vpt = VPTree(embeddings, compare_vectors)\n",
    "\n",
    "#show_matches(vpt.get_n_nearest_neighbors(embeddings[0], 5))"
   ]
  },
  {
   "cell_type": "code",
   "execution_count": 17,
   "metadata": {
    "tags": []
   },
   "outputs": [
    {
     "output_type": "stream",
     "name": "stdout",
     "text": "&lt;class &#39;numpy.ndarray&#39;&gt;\n&lt;class &#39;str&#39;&gt;\n&lt;class &#39;numpy.ndarray&#39;&gt;\n&lt;class &#39;str&#39;&gt;\n&lt;class &#39;list&#39;&gt;\n5\n&lt;class &#39;tuple&#39;&gt; &lt;class &#39;tuple&#39;&gt;\n&lt;class &#39;numpy.float32&#39;&gt;\n&lt;class &#39;numpy.ndarray&#39;&gt;\n&lt;class &#39;numpy.float32&#39;&gt;\n&lt;class &#39;numpy.ndarray&#39;&gt;\n"
    },
    {
     "output_type": "error",
     "ename": "IndexError",
     "evalue": "invalid index to scalar variable.",
     "traceback": [
      "\u001b[0;31m---------------------------------------------------------------------------\u001b[0m",
      "\u001b[0;31mIndexError\u001b[0m                                Traceback (most recent call last)",
      "\u001b[0;32m&lt;ipython-input-17-5d2de7e823a5&gt;\u001b[0m in \u001b[0;36m&lt;module&gt;\u001b[0;34m()\u001b[0m\n\u001b[1;32m     24\u001b[0m     \u001b[0mplt\u001b[0m\u001b[0;34m.\u001b[0m\u001b[0mshow\u001b[0m\u001b[0;34m(\u001b[0m\u001b[0;34m)\u001b[0m\u001b[0;34m\u001b[0m\u001b[0;34m\u001b[0m\u001b[0m\n\u001b[1;32m     25\u001b[0m \u001b[0;34m\u001b[0m\u001b[0m\n\u001b[0;32m---&gt; 26\u001b[0;31m \u001b[0mshow_matches\u001b[0m\u001b[0;34m(\u001b[0m\u001b[0mvpt\u001b[0m\u001b[0;34m.\u001b[0m\u001b[0mget_n_nearest_neighbors\u001b[0m\u001b[0;34m(\u001b[0m\u001b[0membeddings\u001b[0m\u001b[0;34m[\u001b[0m\u001b[0;36m1\u001b[0m\u001b[0;34m]\u001b[0m\u001b[0;34m,\u001b[0m \u001b[0;36m5\u001b[0m\u001b[0;34m)\u001b[0m\u001b[0;34m)\u001b[0m\u001b[0;34m\u001b[0m\u001b[0;34m\u001b[0m\u001b[0m\n\u001b[0m",
      "\u001b[0;32m&lt;ipython-input-17-5d2de7e823a5&gt;\u001b[0m in \u001b[0;36mshow_matches\u001b[0;34m(matches, axes)\u001b[0m\n\u001b[1;32m     12\u001b[0m     \u001b[0mprint\u001b[0m\u001b[0;34m(\u001b[0m\u001b[0mtype\u001b[0m\u001b[0;34m(\u001b[0m\u001b[0mmatches\u001b[0m\u001b[0;34m[\u001b[0m\u001b[0;36m1\u001b[0m\u001b[0;34m]\u001b[0m\u001b[0;34m[\u001b[0m\u001b[0;36m1\u001b[0m\u001b[0;34m]\u001b[0m\u001b[0;34m)\u001b[0m\u001b[0;34m)\u001b[0m\u001b[0;34m\u001b[0m\u001b[0;34m\u001b[0m\u001b[0m\n\u001b[1;32m     13\u001b[0m \u001b[0;34m\u001b[0m\u001b[0m\n\u001b[0;32m---&gt; 14\u001b[0;31m     \u001b[0mfname_list\u001b[0m \u001b[0;34m=\u001b[0m \u001b[0;34m[\u001b[0m\u001b[0mtup\u001b[0m\u001b[0;34m[\u001b[0m\u001b[0;36m0\u001b[0m\u001b[0;34m]\u001b[0m\u001b[0;34m[\u001b[0m\u001b[0;36m1\u001b[0m\u001b[0;34m]\u001b[0m \u001b[0;32mfor\u001b[0m \u001b[0mtup\u001b[0m \u001b[0;32min\u001b[0m \u001b[0mmatches\u001b[0m\u001b[0;34m]\u001b[0m\u001b[0;34m\u001b[0m\u001b[0;34m\u001b[0m\u001b[0m\n\u001b[0m\u001b[1;32m     15\u001b[0m     \u001b[0mimgs\u001b[0m \u001b[0;34m=\u001b[0m \u001b[0;34m[\u001b[0m\u001b[0mImage\u001b[0m\u001b[0;34m.\u001b[0m\u001b[0mopen\u001b[0m\u001b[0;34m(\u001b[0m\u001b[0mfname\u001b[0m\u001b[0;34m)\u001b[0m \u001b[0;32mfor\u001b[0m \u001b[0mfname\u001b[0m \u001b[0;32min\u001b[0m \u001b[0mfname_list\u001b[0m\u001b[0;34m]\u001b[0m\u001b[0;34m\u001b[0m\u001b[0;34m\u001b[0m\u001b[0m\n\u001b[1;32m     16\u001b[0m \u001b[0;34m\u001b[0m\u001b[0m\n",
      "\u001b[0;32m&lt;ipython-input-17-5d2de7e823a5&gt;\u001b[0m in \u001b[0;36m&lt;listcomp&gt;\u001b[0;34m(.0)\u001b[0m\n\u001b[1;32m     12\u001b[0m     \u001b[0mprint\u001b[0m\u001b[0;34m(\u001b[0m\u001b[0mtype\u001b[0m\u001b[0;34m(\u001b[0m\u001b[0mmatches\u001b[0m\u001b[0;34m[\u001b[0m\u001b[0;36m1\u001b[0m\u001b[0;34m]\u001b[0m\u001b[0;34m[\u001b[0m\u001b[0;36m1\u001b[0m\u001b[0;34m]\u001b[0m\u001b[0;34m)\u001b[0m\u001b[0;34m)\u001b[0m\u001b[0;34m\u001b[0m\u001b[0;34m\u001b[0m\u001b[0m\n\u001b[1;32m     13\u001b[0m \u001b[0;34m\u001b[0m\u001b[0m\n\u001b[0;32m---&gt; 14\u001b[0;31m     \u001b[0mfname_list\u001b[0m \u001b[0;34m=\u001b[0m \u001b[0;34m[\u001b[0m\u001b[0mtup\u001b[0m\u001b[0;34m[\u001b[0m\u001b[0;36m0\u001b[0m\u001b[0;34m]\u001b[0m\u001b[0;34m[\u001b[0m\u001b[0;36m1\u001b[0m\u001b[0;34m]\u001b[0m \u001b[0;32mfor\u001b[0m \u001b[0mtup\u001b[0m \u001b[0;32min\u001b[0m \u001b[0mmatches\u001b[0m\u001b[0;34m]\u001b[0m\u001b[0;34m\u001b[0m\u001b[0;34m\u001b[0m\u001b[0m\n\u001b[0m\u001b[1;32m     15\u001b[0m     \u001b[0mimgs\u001b[0m \u001b[0;34m=\u001b[0m \u001b[0;34m[\u001b[0m\u001b[0mImage\u001b[0m\u001b[0;34m.\u001b[0m\u001b[0mopen\u001b[0m\u001b[0;34m(\u001b[0m\u001b[0mfname\u001b[0m\u001b[0;34m)\u001b[0m \u001b[0;32mfor\u001b[0m \u001b[0mfname\u001b[0m \u001b[0;32min\u001b[0m \u001b[0mfname_list\u001b[0m\u001b[0;34m]\u001b[0m\u001b[0;34m\u001b[0m\u001b[0;34m\u001b[0m\u001b[0m\n\u001b[1;32m     16\u001b[0m \u001b[0;34m\u001b[0m\u001b[0m\n",
      "\u001b[0;31mIndexError\u001b[0m: invalid index to scalar variable."
     ]
    }
   ],
   "source": [
    "print(type(embeddings[0][0]))\n",
    "print(type(embeddings[0][1]))\n",
    "print(type(embeddings[1][0]))\n",
    "print(type(embeddings[1][1]))\n",
    "def show_matches(matches, axes=True):\n",
    "    print(type(matches))\n",
    "    print(len(matches))\n",
    "    print(type(matches[0]), type(matches[1]))\n",
    "    print(type(matches[0][0]))\n",
    "    print(type(matches[0][1]))\n",
    "    print(type(matches[1][0]))\n",
    "    print(type(matches[1][1]))\n",
    "    \n",
    "    fname_list = [tup[0][1] for tup in matches]\n",
    "    imgs = [Image.open(fname) for fname in fname_list]\n",
    "\n",
    "    axs = plt.subplots(1, len(imgs), figsize=(10, 5))[1]\n",
    "    axs = np.ravel(axs)\n",
    "\n",
    "    for i in range(len(imgs)):\n",
    "        axs[i].imshow(imgs[i])\n",
    "        if not axes:\n",
    "            axs[i].set_axis_off()\n",
    "    plt.show()\n",
    "\n",
    "show_matches(vpt.get_n_nearest_neighbors(embeddings[1], 5))"
   ]
  },
  {
   "cell_type": "code",
   "execution_count": null,
   "metadata": {},
   "outputs": [],
   "source": []
  },
  {
   "cell_type": "code",
   "execution_count": null,
   "metadata": {},
   "outputs": [],
   "source": []
  }
 ],
 "metadata": {
  "kernelspec": {
   "display_name": "Python 3",
   "language": "python",
   "name": "python3"
  },
  "language_info": {
   "codemirror_mode": {
    "name": "ipython",
    "version": 3
   },
   "file_extension": ".py",
   "mimetype": "text/x-python",
   "name": "python",
   "nbconvert_exporter": "python",
   "pygments_lexer": "ipython3",
   "version": "3.7.3-final"
  }
 },
 "nbformat": 4,
 "nbformat_minor": 2
}